{
 "cells": [
  {
   "cell_type": "markdown",
   "metadata": {},
   "source": [
    "# Classification Metrics\n",
    "\n",
    "In some scenarios, we are ok with the overall accuracy whereas in some scenario the cost of misclassifying a single data point is huge. For example In a scenario of bank finding whether a customer is eligible for the loan or not it can be alright if we might misclassify as some eligible customers as not eligible. But in case of a doctor classifying the patients as having cancer or not it would be a blunder if we declare some potential cancer patients as cancer-free.\n",
    "\n",
    "### Confusion Matrix\n",
    "\n",
    "A confusion matrix is a table that is often used to describe the performance of a classification model on a set of test data for which the true values are known. Confusion matrix is nice, but it is not statistically significant as it is a point estimate.\n",
    "\n",
    "- True Positives (TP): Observations where the actual and predicted transactions were fraud\n",
    "\n",
    "- True Negatives (TN): Observations where the actual and predicted transactions weren’t fraud\n",
    "\n",
    "- False Positives (FP) or False Alarm or Type I Error : Observations where the actual transactions weren’t fraud but predicted to be fraud\n",
    "\n",
    "- False Negatives (FN) or Type II Error : Observations where the actual transactions were fraud but weren’t predicted to be fraud\n",
    "- ideal scenario - zero values for FP and FN\n",
    "- Samples in the FP set are actually negatives and samples in FN are actually positives.\n",
    "\n",
    "### Accuracy (Acc)\n",
    "\n",
    "- Acc = (tp + tn) / (tp + tn + fp + fn)\n",
    "- Classification accuracy is the percentage of correct prediction over total instances. Accuracy can be a good metric if the classes are balanced\n",
    "-  it doesn't tell us where the model is making errors. Answering this \"where\" question is an essential part of model-building. \n",
    "\n",
    "### Classification Error / Error Rate / Misclassification Rate (ERR)\n",
    "\n",
    "- ERR = (1-Acc)\n",
    "- measures the ratio of incorrect predictions over the total number of instances evaluated. \n",
    "- applicable for multi-class and multi-label problems;\n",
    "- Another problem with the accuracy is that two classifiers can yield the same accuracy but perform differently\n",
    "- Both accuracy and error rate metrics are sensitive to the imbalanced data. The imbalance dataset makes accuracy, not a reliable performance metric to use. To cope with this problem, we can choose to penalize false positives or false negatives. This will generate two alternative metrics i.e precision and recall.\n",
    "\n",
    "\n",
    "### Precision\n",
    "\n",
    "Precision is the ability of a model to identify only the relevant data points. For example, for a text search on a set of documents, precision is the number of correct results (TP) divided by the number of all returned results (that belongs to the positive class i.e TP + FP)\n",
    "\n",
    "- Precision is the probability that our classifier will properly identify as positive.\n",
    "- The precision is the ability of the classifier not to label as positive when it is negative. With precision, we are evaluating our data by its performance of ‘positive’ predictions.\n",
    "- Recall is TP/acutal_yes whereas Precsion is TP/predicted_yes\n",
    "- Both Precision and Recall do not consider TNs.\n",
    "\n",
    "### Recall\n",
    "\n",
    "Recall is the ability of a model to find all the relevant cases within a training dataset. For example, for a text search on a set of documents, recall is the number of correct results (TP) divided by the number of results that should have been returned (that actually belongs to the positive class i.e. TP+FN). A higher relcall (ie 1.0) says that we will catch every terrorist but our precision will be very low i.e. we will detain many innocents\n",
    "\n",
    "- The recall is the ability of the classifier to find all the positive samples. With recall, we are evaluating our data by its performance of the ground truths for positive outcomes.\n",
    "- e.g. If a sample is positive for the disease, what’s the probability that the system will pick it up\n",
    "\n",
    "### F1 (F-beta measures)\n",
    "\n",
    "Used when the target variable is unbalanced. The F1 score can be interpreted as a weighted average of the precision and recall. We use the harmonic mean instead of a simple average because it punishes extreme values. A classifier with a precision of 1.0 and a recall of 0.0 has a simple average of 0.5 but an F1 score of 0. The F1 score gives equal weight to both measures. \n",
    "\n",
    "When beta takes value of 0.5 then it is called F1 measures. F1 scores can be used to compare two models. F1 is used where true negatives don’t matter much.  The best value for recall, precision and F1 is 1 and the worst value is 0.\n",
    "\n",
    "The difference in F1 score reflects the model performance. When you have a small positive class, then F1 score makes more sense. This is the common problem in fraud detection where positive labels are few.\n",
    "\n",
    "### Sensitivity or TPR or Recall\n",
    "\n",
    "- Sensitivity is True Positive rate and is also called positve recall while specificity (TNR) is called negative recall.\n",
    "\n",
    "### Specificity or TNR is opposite of Recall\n",
    "\n",
    "- = TN/(TN+FP).\n",
    "- Sensitivity and Specificity may give you a biased result, especially for imbalanced classes.\n",
    "- both precision and recall are necessary to determine if the classifier is performing well.\n",
    "\n",
    "\n",
    "### Matthews Correlation Coefficient (MCC)\n",
    "- Similar to Correlation Coefficient and its values lie between -1 to +1. A model with a score of +1 is a perfect model and -1 is a poor model. This property is one of the key usefulness of MCC as it leads to easy interpretability.\n",
    "\n",
    "\n",
    "### ROC Curve (TPR vs 1-specificity aka FPR)\n",
    "\n",
    "ROC is only used in binary classification problem. ROC is a function of threshold which shows the performance of a classification model at all thresholds.It is generated by plotting the True Positive Rate (y-axis) against the False Positive Rate (x-axis)\n",
    "\n",
    " \n",
    "- The ROC Curve/AUC Score is most useful when we are evaluating a model to itself\n",
    "- The value can range from 0 to 1. However auc score of a random classifier for balanced data is 0.5\n",
    "- ROC-AUC score is independent of the threshold set for classification because it only considers the rank of each prediction and not its absolute value. The same is not true for F1 score which needs a threshold value in case of probabilities output\n",
    "\n",
    "### AOC\n",
    "\n",
    "- AUC is one of the popular ranking type metrics AUC is the area under the ROC curve. Perfect classifier: AUC=1, fall on (0,1); 100% sensitivity (no FN) and 100% specificity (no FP)\n",
    "\n",
    "- The probabilistic interpretation of ROC-AUC score is that if we randomly choose a positive case and a negative case, the probability that the positive case outranks the negative case according to the classifier is given by the AUC. Here, rank is determined according to order by predicted values.\n",
    "- ROC-AUC score is independent of the threshold set for classification because it only considers the rank of each prediction and not its absolute value. The same is not true for F1 score which needs a threshold value in case of probabilities output\n",
    "- AUC is the percentage of the ROC plot that is underneath the curve.\n",
    "- The AUC represents a model’s ability to discriminate between positive and negative classes. An area of 1.0 represents a model that made all predictions perfectly. An area of 0.5 represents a model as good as random.\n",
    "- AUC is useful even when there is high class imbalance (unlike classification accuracy)\n",
    "  Fraud case\n",
    "   - Null accuracy almost 99%\n",
    "    - AUC is useful here\n",
    "\n",
    "General AUC predictions:\n",
    "\n",
    "- .90-1 = Excellent\n",
    "- .80-.90 = Good\n",
    "- .70-.80 = Fair\n",
    "- .60-.70 = Poor\n",
    "- .50-.60 = Fail\n",
    "\n",
    "AUC ROC considers the predicted probabilities for determining the model’s performance. But, it only takes into account the order of probabilities and hence it does not take into account the model’s capability to predict higher probability for samples more likely to be positive(Log Loss).\n",
    "\n",
    "Whereas the AUC is computed with regards to binary classification with a varying decision threshold, log loss actually takes “certainty” of classification into account.\n",
    "\n",
    "\n",
    "### Precsion Recall Curve (PRC)\n",
    "\n",
    "When dealing with highly skewed datasets (class imbalance), Precision-Recall (PR) curves give a more informative picture of an algorithm's performance. PRC is also used for binary classification problems. \n",
    "\n",
    "### Log loss/ Logarithmic Loss / Logistic Loss / Cross-Entropy Loss\n",
    "\n",
    "AUC ROC considers the predicted probabilities for determining our model’s performance. However, there is an issue with AUC ROC, it only takes into account the order of probabilities and hence it does not take into account the model’s capability to predict higher probability for samples more likely to be positive. In that case, we could us the log loss which is nothing but negative average of the log of corrected predicted probabilities for each instance. Punishes infinitely the deviation from the true value! It’s better to be somewhat wrong than emphatically wrong!\n",
    "\n",
    " \n",
    "- When working with Log Loss, the classifier must assign probability to each class for all the samples.\n",
    "- Log loss measures the UNCERTAINTY of the probabilities of the model by comparing them to the true labels and penalising the false classifications.\n",
    "- Log loss is only defined for two or more labels.\n",
    "- Log Loss gradually declines as the predicted probability improves, thus Log Loss nearer to 0 indicates higher accuracy, Log Loss away from 0 indicates lower accuracy.\n",
    "- Log Loss exists in the range (0, ∞].\n",
    "\n",
    "### Gini Coefficient or Somers' D statistic\n",
    "\n",
    "- Gini = 2*AUC – 1\n",
    "- Gini above 60% is a good model. For the case in hand we get Gini as 92.7%.\n",
    "\n",
    "### Concordant – Discordant ratio (pairs)\n",
    "\n",
    "Concordant pairs and discordant pairs refer to comparing two pairs of data points to see if they “match.” The meaning is slightly different depending on if you are finding these pairs from various coefficients (like Kendall’s Tau) or if you are performing experimental studies and clinical trials.\n",
    "\n",
    "Concordant Pair: A pair of observations (x1, y1) and (x2, y2) that follows the property\n",
    "- x1 > x2 and y1 > y2 or\n",
    "- x1 < x2 and y1 < y2\n",
    "Discordant Pair: A pair of observations (x1, y1) and (x2, y2) that follows the property\n",
    "- x1 > x2 and y1 < y2 or\n",
    "- x1 < x2 and y1 > y2\n",
    "\n",
    "__Note:__ The pair for which x1 = x2 and y1 = y2 are not classified as concordant or discordant, hence tied and are ignored.\n",
    "\n",
    "To calculate the concordant and discordant pairs, the data are treated as ordinal, so ordinal data should be appropriate for your application. The number of concordant and discordant pairs are used in calculations for Kendall's tau, which measures the association between two ordinal variables. Kendal(tau) is a non-parametric rank based correlation test like spearmans(rho). The other parametric correlation test is Pearson(r).\n",
    "\n",
    "```python\n",
    "from scipy.stats._stats import _kendall_dis\n",
    "```\n",
    "\n",
    "\n",
    "### Choice of Metrics\n",
    "\n",
    "It depends on the business objective and the cost consideration. I consider the largest difference in ROC and PR AUC the fact the ROC is determining how well your model can \"calculate\" the positive class AND the negative class where as the PR AUC is really only looking at your positive class. So in a balanced class situation and where you care about both negative and positive classes, the ROC AUC metric works great. When you have an imbalanced situation, it is preferred to use the PR AUC, but keep in mind it is only determining how well your model can \"calculate\" the positive class!\n",
    "\n",
    "- If we care for absolute probabilistic difference, go with log-loss.\n",
    "- If we care only for the final class prediction and we don’t want to tune threshold, go with AUC score. -F1 score is sensitive to threshold and we would want to tune it first before comparing the models."
   ]
  },
  {
   "cell_type": "markdown",
   "metadata": {},
   "source": [
    "### Q When will we prefer F1 over ROC-AUC?\n",
    "\n",
    "Prefer PR curve whenever the positive class is rare or when we care more about the false positives than the false negatives.\n",
    "\n",
    "To train binary classifiers, choose the appropriate metric for the task, evaluate the classifiers using cross-validation, select the precision/ recall tradeoff that fits our needs, and compare various models using ROC curves and ROC AUC scores."
   ]
  },
  {
   "cell_type": "markdown",
   "metadata": {},
   "source": [
    "## Kendal tau"
   ]
  },
  {
   "cell_type": "code",
   "execution_count": 40,
   "metadata": {},
   "outputs": [
    {
     "data": {
      "text/plain": [
       "0.4285714285714286"
      ]
     },
     "execution_count": 40,
     "metadata": {},
     "output_type": "execute_result"
    }
   ],
   "source": [
    "# Import required libraries \n",
    "from scipy.stats import kendalltau \n",
    "  \n",
    "# Taking values from the above example in Lists \n",
    "X = [1, 2, 3, 4, 5, 6, 7] \n",
    "Y = [1, 3, 6, 2, 7, 4, 5] \n",
    "\n",
    "corr, _ = kendalltau(X, Y)\n",
    "corr"
   ]
  },
  {
   "cell_type": "markdown",
   "metadata": {},
   "source": [
    "## Cohen Kappa\n",
    "\n",
    "#### Inter-rater agreement Kappas (coefficient of Agreement)\n",
    "a.k.a. inter-rater reliability or concordance\n",
    "\n",
    "\n",
    "Kappa is similar to Accuracy score, but it takes into account the accuracy that would have happened anyway through random predictions.\n",
    "\n",
    "Kappa = (Observed Accuracy - Expected Accuracy) / (1 - Expected Accuracy)\n",
    "\n",
    "\n",
    "In statistics, inter-rater reliability, inter-rater agreement, or concordance is the degree of agreement among raters. It gives a score of how much homogeneity, or consensus, there is in the ratings given by judges.\n",
    "\n",
    "Kappa Statistic is a metric that compares an observed accuracy with an expected accuracy (Random Chance)\n",
    "- values between 0 to 1\n",
    "\n",
    "Kappa is an important measure on classifier performance, especially on imbalanced data set where accuracy metric does not tell more information\n",
    "\n",
    "Cohen’s kappa: a statistic that measures inter-annotator agreement for qualitative (categorical or nominal) items.\n",
    "\n",
    "Note that Cohen’s Kappa only applied to 2 raters rating the exact same items.Fleiss Extends Cohen’s Kappa to more than 2 raters."
   ]
  },
  {
   "cell_type": "code",
   "execution_count": 2,
   "metadata": {},
   "outputs": [],
   "source": [
    "from sklearn.metrics import cohen_kappa_score"
   ]
  },
  {
   "cell_type": "code",
   "execution_count": 5,
   "metadata": {},
   "outputs": [
    {
     "data": {
      "text/plain": [
       "1.0"
      ]
     },
     "execution_count": 5,
     "metadata": {},
     "output_type": "execute_result"
    }
   ],
   "source": [
    "y_true = [1, 0, 1, 1, 1, 1]\n",
    "y_pred = [1, 0, 1, 1, 1, 1]\n",
    "cohen_kappa_score(y_true, y_pred)"
   ]
  },
  {
   "cell_type": "markdown",
   "metadata": {},
   "source": [
    "## nltk agreement"
   ]
  },
  {
   "cell_type": "code",
   "execution_count": 12,
   "metadata": {},
   "outputs": [
    {
     "data": {
      "text/plain": [
       "[[0, '0', '1'],\n",
       " [0, '1', '1'],\n",
       " [0, '2', '1'],\n",
       " [1, '0', '1'],\n",
       " [1, '1', '1'],\n",
       " [1, '2', '0'],\n",
       " [2, '0', '0'],\n",
       " [2, '1', '1'],\n",
       " [2, '2', '1']]"
      ]
     },
     "execution_count": 12,
     "metadata": {},
     "output_type": "execute_result"
    }
   ],
   "source": [
    "from nltk import agreement\n",
    "rater1 = [1,1,1]\n",
    "rater2 = [1,1,0]\n",
    "rater3 = [0,1,1]\n",
    "\n",
    "taskdata=[[0,str(i),str(rater1[i])] for i in range(0,len(rater1))]+[[1,str(i),str(rater2[i])] for i in range(0,len(rater2))]+[[2,str(i),str(rater3[i])] for i in range(0,len(rater3))]\n",
    "taskdata"
   ]
  },
  {
   "cell_type": "code",
   "execution_count": 13,
   "metadata": {},
   "outputs": [
    {
     "name": "stdout",
     "output_type": "stream",
     "text": [
      "kappa -0.1666666666666667\n",
      "fleiss -0.2000000000000003\n",
      "alpha -0.1428571428571428\n",
      "scotts -0.28571428571428603\n"
     ]
    }
   ],
   "source": [
    "ratingtask = agreement.AnnotationTask(data=taskdata)\n",
    "print(\"kappa \" +str(ratingtask.kappa()))\n",
    "print(\"fleiss \" + str(ratingtask.multi_kappa()))\n",
    "print(\"alpha \" +str(ratingtask.alpha()))\n",
    "print(\"scotts \" + str(ratingtask.pi()))"
   ]
  },
  {
   "cell_type": "markdown",
   "metadata": {},
   "source": [
    "## sklearn make_scorer"
   ]
  },
  {
   "cell_type": "code",
   "execution_count": 8,
   "metadata": {},
   "outputs": [],
   "source": [
    "from sklearn.metrics import cohen_kappa_score, make_scorer\n",
    "from sklearn.model_selection import GridSearchCV\n",
    "from sklearn.svm import LinearSVC\n",
    "\n",
    "kappa_scorer = make_scorer(cohen_kappa_score)\n",
    "grid = GridSearchCV(LinearSVC(), param_grid={'C': [1, 10]}, scoring=kappa_scorer)"
   ]
  },
  {
   "cell_type": "code",
   "execution_count": 9,
   "metadata": {},
   "outputs": [
    {
     "data": {
      "text/plain": [
       "GridSearchCV(cv=None, error_score=nan,\n",
       "             estimator=LinearSVC(C=1.0, class_weight=None, dual=True,\n",
       "                                 fit_intercept=True, intercept_scaling=1,\n",
       "                                 loss='squared_hinge', max_iter=1000,\n",
       "                                 multi_class='ovr', penalty='l2',\n",
       "                                 random_state=None, tol=0.0001, verbose=0),\n",
       "             iid='deprecated', n_jobs=None, param_grid={'C': [1, 10]},\n",
       "             pre_dispatch='2*n_jobs', refit=True, return_train_score=False,\n",
       "             scoring=make_scorer(cohen_kappa_score), verbose=0)"
      ]
     },
     "execution_count": 9,
     "metadata": {},
     "output_type": "execute_result"
    }
   ],
   "source": [
    "grid"
   ]
  },
  {
   "cell_type": "markdown",
   "metadata": {},
   "source": [
    "# `Classificaion Metrics`"
   ]
  },
  {
   "cell_type": "code",
   "execution_count": 38,
   "metadata": {},
   "outputs": [],
   "source": [
    "import numpy as np\n",
    "import pandas as pd\n",
    "import matplotlib.pyplot as plt\n",
    "import sklearn\n",
    "from sklearn import metrics, datasets, neighbors\n",
    "import sys\n",
    "import warnings\n",
    "import itertools\n",
    "\n",
    "warnings.filterwarnings(\"ignore\")"
   ]
  },
  {
   "cell_type": "code",
   "execution_count": 15,
   "metadata": {},
   "outputs": [
    {
     "name": "stdout",
     "output_type": "stream",
     "text": [
      "Dataset Size :  (500, 20) (500,)\n"
     ]
    }
   ],
   "source": [
    "X,Y  = datasets.make_classification(n_samples=500, n_features=20, n_classes=2, random_state=1)\n",
    "print('Dataset Size : ',X.shape,Y.shape)"
   ]
  },
  {
   "cell_type": "code",
   "execution_count": 17,
   "metadata": {},
   "outputs": [
    {
     "name": "stdout",
     "output_type": "stream",
     "text": [
      "Train/Test Size :  (400, 20) (100, 20) (400,) (100,)\n"
     ]
    }
   ],
   "source": [
    "from sklearn.model_selection import train_test_split\n",
    "X_train, X_test, Y_train, Y_test = train_test_split(X, Y, train_size=0.80, test_size=0.20, stratify=Y, random_state=1)\n",
    "print('Train/Test Size : ', X_train.shape, X_test.shape, Y_train.shape, Y_test.shape)"
   ]
  },
  {
   "cell_type": "code",
   "execution_count": 18,
   "metadata": {},
   "outputs": [
    {
     "data": {
      "text/plain": [
       "LinearSVC(C=0.1, class_weight=None, dual=True, fit_intercept=True,\n",
       "          intercept_scaling=1, loss='squared_hinge', max_iter=1000,\n",
       "          multi_class='ovr', penalty='l2', random_state=1, tol=0.0001,\n",
       "          verbose=0)"
      ]
     },
     "execution_count": 18,
     "metadata": {},
     "output_type": "execute_result"
    }
   ],
   "source": [
    "from sklearn.svm import LinearSVC\n",
    "\n",
    "linear_svc = LinearSVC(random_state=1, C=0.1)\n",
    "linear_svc.fit(X_train, Y_train)"
   ]
  },
  {
   "cell_type": "markdown",
   "metadata": {},
   "source": [
    "## Classificatin Accuracy"
   ]
  },
  {
   "cell_type": "code",
   "execution_count": 20,
   "metadata": {},
   "outputs": [
    {
     "name": "stdout",
     "output_type": "stream",
     "text": [
      "[0 1 0 1 1 0 0 0 1 0 1 0 0 0 1]\n",
      "[0 1 0 1 1 0 0 0 1 0 0 0 0 0 1]\n",
      "Test Accuracy : 0.930\n",
      "Test Accuracy : 0.930\n",
      "Training Accuracy : 0.953\n"
     ]
    }
   ],
   "source": [
    "Y_preds = linear_svc.predict(X_test)\n",
    "\n",
    "print(Y_preds[:15])\n",
    "print(Y_test[:15])\n",
    "\n",
    "print('Test Accuracy : %.3f'%(Y_preds == Y_test).mean())\n",
    "print('Test Accuracy : %.3f'%linear_svc.score(X_test, Y_test)) ## Score method also evaluates accuracy for classification models.\n",
    "print('Training Accuracy : %.3f'%linear_svc.score(X_train, Y_train))"
   ]
  },
  {
   "cell_type": "markdown",
   "metadata": {},
   "source": [
    "## Confusion Matrix"
   ]
  },
  {
   "cell_type": "code",
   "execution_count": 21,
   "metadata": {},
   "outputs": [
    {
     "name": "stdout",
     "output_type": "stream",
     "text": [
      "[[47  3]\n",
      " [ 4 46]]\n"
     ]
    }
   ],
   "source": [
    "from sklearn.metrics import confusion_matrix\n",
    "\n",
    "conf_mat = confusion_matrix(Y_test, Y_preds)\n",
    "print(conf_mat)"
   ]
  },
  {
   "cell_type": "markdown",
   "metadata": {},
   "source": [
    "## Classification Report"
   ]
  },
  {
   "cell_type": "code",
   "execution_count": 22,
   "metadata": {},
   "outputs": [
    {
     "name": "stdout",
     "output_type": "stream",
     "text": [
      "Precision                                   : 0.939\n",
      "Recall                                      : 0.920\n",
      "F1-Score                                    : 0.929\n",
      "\n",
      "Precision Recall F1-Score Support Per Class : \n",
      " (array([0.92156863, 0.93877551]), array([0.94, 0.92]), array([0.93069307, 0.92929293]), array([50, 50], dtype=int32))\n",
      "\n",
      "Classification Report                       : \n",
      "              precision    recall  f1-score   support\n",
      "\n",
      "           0       0.92      0.94      0.93        50\n",
      "           1       0.94      0.92      0.93        50\n",
      "\n",
      "    accuracy                           0.93       100\n",
      "   macro avg       0.93      0.93      0.93       100\n",
      "weighted avg       0.93      0.93      0.93       100\n",
      "\n"
     ]
    }
   ],
   "source": [
    "from sklearn.metrics import classification_report, precision_score, recall_score, f1_score, precision_recall_fscore_support\n",
    "\n",
    "print('Precision                                   : %.3f'%precision_score(Y_test, Y_preds))\n",
    "print('Recall                                      : %.3f'%recall_score(Y_test, Y_preds))\n",
    "print('F1-Score                                    : %.3f'%f1_score(Y_test, Y_preds))\n",
    "print('\\nPrecision Recall F1-Score Support Per Class : \\n',precision_recall_fscore_support(Y_test, Y_preds))\n",
    "print('\\nClassification Report                       : ')\n",
    "print(classification_report(Y_test, Y_preds))"
   ]
  },
  {
   "cell_type": "markdown",
   "metadata": {},
   "source": [
    "## ROC Curves\n",
    "ROC(Receiver Operating Characteristic) Curve helps better understand the performance of the model when handling an unbalanced dataset. ROC Curve works with the output of prediction function by setting different threshold values to find out different false positives and true positive rates according to the threshold. In the case of SVC, for example, a threshold set for output of decision function is 0 whereas ROC Curve tries various values for thresholds like [2,1,-1,-2] including negative threshold values as well. In the case of LogisticRegression, the default threshold is 0.5 and ROC will try default threshold values. For linear regression, the output is a probability between [0,1] hence threshold is set at 0.5 to differentiate positive/negative classes whereas in case of SVC internal kernel function returns value and threshold is set on that value for making a prediction.\n",
    "\n",
    "__Note:__ It's restricted to binary classification tasks."
   ]
  },
  {
   "cell_type": "code",
   "execution_count": 28,
   "metadata": {},
   "outputs": [
    {
     "data": {
      "image/png": "[encoded data removed]",
      "text/plain": [
       "<Figure size 288x216 with 1 Axes>"
      ]
     },
     "metadata": {},
     "output_type": "display_data"
    }
   ],
   "source": [
    "from sklearn.metrics import roc_curve, roc_auc_score\n",
    "\n",
    "decision_function = linear_svc.decision_function(X_test)\n",
    "fpr, tpr, thresholds = roc_curve(Y_test, decision_function)\n",
    "acc = linear_svc.score(X_test, Y_test)\n",
    "auc = roc_auc_score(Y_test, linear_svc.decision_function(X_test))\n",
    "\n",
    "with plt.style.context(('ggplot','seaborn')):\n",
    "    plt.figure(figsize=(4,3))\n",
    "    plt.scatter(fpr, tpr, c='blue')\n",
    "    plt.plot(fpr, tpr, label=\"Accuracy:%.2f AUC:%.2f\" % (acc, auc), linewidth=2, c='red')\n",
    "    plt.xlabel(\"False Positive Rate\")\n",
    "    plt.ylabel(\"True Positive Rate (recall)\")\n",
    "    plt.title('ROC Curve')\n",
    "    plt.legend(loc='best');"
   ]
  },
  {
   "cell_type": "markdown",
   "metadata": {},
   "source": [
    "With a very small decision threshold, there will be few false positives, but also few false negatives, while with a very high threshold, both true positive rate and the false positive rate will be high. So in general, the curve will be from the lower left to the upper right. A diagonal line reflects chance performance, while the goal is to be as much in the top left corner as possible. We want ROC Curve to cover almost 100% area for good performance. 50% area coverage refers to the chance model (random prediction)."
   ]
  },
  {
   "cell_type": "markdown",
   "metadata": {},
   "source": [
    "## Precision-Recall Curve\n",
    "Precision and Recall helps a lot in case of imbalanced datasets. Plotting different values of precision vs recall by setting different thresholds helps in evaluating the performance of the model better in case of imbalance classes. It does not take into consideration true negatives as it's majority class and True positives represent minority class which has quite a few occurrences.\n",
    "\n",
    "__Note:__ It's restricted to binary classification tasks."
   ]
  },
  {
   "cell_type": "code",
   "execution_count": 31,
   "metadata": {},
   "outputs": [
    {
     "data": {
      "image/png": "[encoded data removed]",
      "text/plain": [
       "<Figure size 288x216 with 1 Axes>"
      ]
     },
     "metadata": {},
     "output_type": "display_data"
    }
   ],
   "source": [
    "from sklearn.metrics import precision_recall_curve, auc,average_precision_score\n",
    "\n",
    "decision_function = linear_svc.decision_function(X_test)\n",
    "precision, recall, thresholds = precision_recall_curve(Y_test, decision_function)\n",
    "acc = linear_svc.score(X_test, Y_test)\n",
    "p_auc = auc(recall, precision)\n",
    "\n",
    "with plt.style.context(('ggplot', 'seaborn')):\n",
    "    plt.figure(figsize=(4,3))\n",
    "    plt.scatter(recall, precision, c='blue')\n",
    "    plt.plot(recall, precision, label=\"Accuray:%.2f, AUC:%.2f\" % (acc, p_auc), linewidth=2, c='red')\n",
    "    plt.hlines(0.5,0.0,1.0, linestyle='dashed', colors=['orange'])\n",
    "    plt.xlabel(\"Recall (Sensitivity)\")\n",
    "    plt.ylabel(\"Precision\")\n",
    "    plt.title('Precision Recall Curve')\n",
    "    plt.legend(loc='best');"
   ]
  },
  {
   "cell_type": "markdown",
   "metadata": {},
   "source": [
    "Precision-recall curve totally crashes if our model is not performing well in case of imbalanced dataset. Notice that AUC in case of precison recall curve is 50% and whereas AUC with ROC curve was around 90%. ROC curves sometimes give optimistic results hence its better to consider precision recall curves as well in case of imbalanced datasets."
   ]
  },
  {
   "cell_type": "markdown",
   "metadata": {},
   "source": [
    "## Balanced Accuracy Score\n",
    "It returns an average of recall of each class in classification problem. It's useful to deal with imbalanced datasets.\n",
    "\n",
    "It has parameter adjusted which when set True results are adjusted for a chance so that the random performing model would get a score of 0 and perfect performance will get 1.0."
   ]
  },
  {
   "cell_type": "code",
   "execution_count": 32,
   "metadata": {},
   "outputs": [
    {
     "name": "stdout",
     "output_type": "stream",
     "text": [
      "Balanced Accuracy          :  0.9299999999999999\n",
      "Balanced Accuracy Adjusted :  0.8599999999999999\n"
     ]
    }
   ],
   "source": [
    "from sklearn.metrics import balanced_accuracy_score\n",
    "\n",
    "print('Balanced Accuracy          : ',balanced_accuracy_score(Y_test, Y_preds))\n",
    "print('Balanced Accuracy Adjusted : ',balanced_accuracy_score(Y_test, Y_preds, adjusted=True))"
   ]
  },
  {
   "cell_type": "markdown",
   "metadata": {},
   "source": [
    "## Zero One Classification Loss\n",
    "It returns a number of misclassifications or a fraction of misclassifications. It accepts normalize parameter whose value if set True then returns a fraction of misclassifications else if set to False then it returns misclassifications."
   ]
  },
  {
   "cell_type": "code",
   "execution_count": 33,
   "metadata": {},
   "outputs": [
    {
     "name": "stdout",
     "output_type": "stream",
     "text": [
      "Number of Misclassificied Examples   :  7\n",
      "Fraction of Misclassificied Examples :  0.06999999999999995\n"
     ]
    }
   ],
   "source": [
    "from sklearn.metrics import zero_one_loss\n",
    "\n",
    "print('Number of Misclassificied Examples   : ',zero_one_loss(Y_test, Y_preds, normalize=False))\n",
    "print('Fraction of Misclassificied Examples : ',zero_one_loss(Y_test, Y_preds))"
   ]
  },
  {
   "cell_type": "markdown",
   "metadata": {},
   "source": [
    "## Brier Loss\n",
    "It computes squared differences between the actual labels of class and predicted probability by model. It should be as low as possible for good performance. It’s for binary classification problems only. It by defaults takes 1 as positive class hence if one needs to consider 0 as a positive class then one can use the pos_label parameter as below."
   ]
  },
  {
   "cell_type": "markdown",
   "metadata": {},
   "source": [
    "from sklearn.metrics import brier_score_loss\n",
    "\n",
    "print('Brier Loss                       : ',brier_score_loss(Y_test, grid.predict_proba(X_test)[:, 1]))\n",
    "print('Brier Loss (0 as Positive Class) : ', brier_score_loss(Y_test, grid.predict_proba(X_test)[:, 0], pos_label=0))"
   ]
  },
  {
   "cell_type": "markdown",
   "metadata": {},
   "source": [
    "## F-Beta Score\n",
    "F-Beta score refers to weighted average of precision and recall based on the value of the beta parameter provided. If beta < 1 then it lends more weight to precision, while beta > 1 lends more weight to recall. It has the best value of 1.0 and the worst 0.0.\n",
    "\n",
    "It has a parameter called average which is required for multiclass problems. It accepts values [None, 'binary'(default), 'micro', 'macro', 'samples', 'weighted']. If None is specified then the score for each class is returned else average as per parameter is returned in a multiclass problem."
   ]
  },
  {
   "cell_type": "code",
   "execution_count": 35,
   "metadata": {},
   "outputs": [
    {
     "name": "stdout",
     "output_type": "stream",
     "text": [
      "Fbeta Favouring Precision :  0.9349593495934959\n",
      "Fbeta Favouring Recall    :  0.9236947791164658\n"
     ]
    }
   ],
   "source": [
    "from sklearn.metrics import fbeta_score\n",
    "\n",
    "print('Fbeta Favouring Precision : ', fbeta_score(Y_test, Y_preds, beta=0.5))\n",
    "print('Fbeta Favouring Recall    : ' ,fbeta_score(Y_test, Y_preds, beta=2.0))"
   ]
  },
  {
   "cell_type": "markdown",
   "metadata": {},
   "source": [
    "## Hamming Loss\n",
    "It returns fraction of labels misclassified."
   ]
  },
  {
   "cell_type": "code",
   "execution_count": 37,
   "metadata": {},
   "outputs": [
    {
     "name": "stdout",
     "output_type": "stream",
     "text": [
      "Hamming Loss :  0.07\n"
     ]
    }
   ],
   "source": [
    "from sklearn.metrics import hamming_loss\n",
    "\n",
    "print('Hamming Loss : ', hamming_loss(Y_test, Y_preds))"
   ]
  },
  {
   "cell_type": "code",
   "execution_count": null,
   "metadata": {},
   "outputs": [],
   "source": []
  }
 ],
 "metadata": {
  "kernelspec": {
   "display_name": "Python 3",
   "language": "python",
   "name": "python3"
  },
  "language_info": {
   "codemirror_mode": {
    "name": "ipython",
    "version": 3
   },
   "file_extension": ".py",
   "mimetype": "text/x-python",
   "name": "python",
   "nbconvert_exporter": "python",
   "pygments_lexer": "ipython3",
   "version": "3.8.2"
  }
 },
 "nbformat": 4,
 "nbformat_minor": 4
}
