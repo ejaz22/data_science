{
 "cells": [
  {
   "cell_type": "code",
   "execution_count": 2,
   "metadata": {
    "collapsed": true
   },
   "outputs": [],
   "source": [
    "import pandas as pd\n",
    "import numpy as np"
   ]
  },
  {
   "cell_type": "code",
   "execution_count": 6,
   "metadata": {
    "collapsed": false
   },
   "outputs": [
    {
     "ename": "ImportError",
     "evalue": "No module named Tool.clf_preprocessing",
     "output_type": "error",
     "traceback": [
      "\u001b[1;31m---------------------------------------------------------------------------\u001b[0m",
      "\u001b[1;31mImportError\u001b[0m                               Traceback (most recent call last)",
      "\u001b[1;32m<ipython-input-6-04b8606dadfa>\u001b[0m in \u001b[0;36m<module>\u001b[1;34m()\u001b[0m\n\u001b[1;32m----> 1\u001b[1;33m \u001b[1;32mfrom\u001b[0m \u001b[0mTool\u001b[0m\u001b[1;33m.\u001b[0m\u001b[0mclf_preprocessing\u001b[0m \u001b[1;32mimport\u001b[0m \u001b[0mget_stat\u001b[0m\u001b[1;33m,\u001b[0m \u001b[0mget_CF\u001b[0m\u001b[1;33m,\u001b[0m \u001b[0mget_dummy\u001b[0m\u001b[1;33m\u001b[0m\u001b[0m\n\u001b[0m",
      "\u001b[1;31mImportError\u001b[0m: No module named Tool.clf_preprocessing"
     ]
    }
   ],
   "source": [
    "from Tool.clf_preprocessing import get_stat, get_CF, get_dummy"
   ]
  },
  {
   "cell_type": "markdown",
   "metadata": {},
   "source": [
    "### read data"
   ]
  },
  {
   "cell_type": "code",
   "execution_count": 3,
   "metadata": {
    "collapsed": true
   },
   "outputs": [],
   "source": [
    "df = pd.read_csv(\"C:/Users/bnb489/Desktop/DSI/cust_segmentation/data/cust_data.csv\")"
   ]
  },
  {
   "cell_type": "code",
   "execution_count": 4,
   "metadata": {
    "collapsed": false
   },
   "outputs": [
    {
     "data": {
      "text/plain": [
       "Index([u'FRST_INVSTR_ID', u'tot_num_funded_accts', u'has_ira_roth_acct',\n",
       "       u'has_join_acct', u'months_since_first_acct', u'months_since_last_acct',\n",
       "       u'customer_ever_traded_options', u'customer_ever_traded_mf',\n",
       "       u'customer_has_placed_AIP_trade', u'customer_has_margin_appr_acct',\n",
       "       u'num_trades_last_3_months', u'num_trades_last_12_months',\n",
       "       u'investor_curr_cash_baL', u'investor_cur_sec_bal',\n",
       "       u'current_net_new_asset_in', u'current_net_new_asset_out',\n",
       "       u'current_net_new_asset', u'trading_revenue',\n",
       "       u'total_non_ag_codes_enrolled', u'total_ag_codes_enrolled',\n",
       "       u'con_email_open_last_3_months', u'con_dist_email_open_last_3_months',\n",
       "       u'con_email_clck_last_3_months', u'con_dist_email_clck_last_3_months',\n",
       "       u'con_email_nsnt_last_3_months', u'con_email_bnce_last_3_months',\n",
       "       u'con_email_stsc_last_3_months', u'con_email_unsb_last_3_months',\n",
       "       u'con_email_mld_last_3_months', u'MWEB_LGIN_3', u'MAPP_LGIN_3',\n",
       "       u'MOB_LGIN_3', u'CUST_LGIN_3', u'OFX_LGIN_3', u'MWEB_LGIN_12',\n",
       "       u'MAPP_LGIN_12', u'MOB_LGIN_12', u'CUST_LGIN_12', u'OFX_LGIN_12',\n",
       "       u'DATA_AS_OF_DATE'],\n",
       "      dtype='object')"
      ]
     },
     "execution_count": 4,
     "metadata": {},
     "output_type": "execute_result"
    }
   ],
   "source": [
    "df.columns"
   ]
  },
  {
   "cell_type": "code",
   "execution_count": null,
   "metadata": {
    "collapsed": true
   },
   "outputs": [],
   "source": []
  }
 ],
 "metadata": {
  "kernelspec": {
   "display_name": "Python 2",
   "language": "python",
   "name": "python2"
  },
  "language_info": {
   "codemirror_mode": {
    "name": "ipython",
    "version": 2
   },
   "file_extension": ".py",
   "mimetype": "text/x-python",
   "name": "python",
   "nbconvert_exporter": "python",
   "pygments_lexer": "ipython2",
   "version": "2.7.11"
  }
 },
 "nbformat": 4,
 "nbformat_minor": 0
}


{
 "cells": [
  {
   "cell_type": "code",
   "execution_count": 6,
   "metadata": {
    "collapsed": true
   },
   "outputs": [],
   "source": [
    "import sys\n",
    "import os\n",
    "sys.path.append('../src')\n",
    "import nlp_util as util\n",
    "\n",
    "import pandas as pd\n",
    "import seaborn as sns\n",
    "\n",
    "import numpy as np\n",
    "import matplotlib.pyplot as plt\n"
   ]
  },
  {
   "cell_type": "code",
   "execution_count": 53,
   "metadata": {
    "collapsed": true
   },
   "outputs": [],
   "source": [
    "issue_col = 'issue'\n",
    "target_col = 'issue_risk_rating'\n",
    "filepath = '../data/all_issue_trending_2019_q2.csv'"
   ]
  },
  {
   "cell_type": "code",
   "execution_count": 54,
   "metadata": {},
   "outputs": [
    {
     "name": "stderr",
     "output_type": "stream",
     "text": [
      "2019-08-08 14:31:26,588 - INFO: Loading CSV: ../data/all_issue_trending_2019_q2.csv\n",
      "2019-08-08 14:31:26,675 - INFO: Removing rows with no issue text. Original size: 2920\n",
      "2019-08-08 14:31:26,679 - INFO: Size after removing null issue text: 2554\n",
      "2019-08-08 14:31:26,681 - INFO: Preprocessing target: issue_risk_rating\n"
     ]
    }
   ],
   "source": [
    "df = util.load_csv(filepath)\n",
    "df = util.preprocess_target(df, target_col)\n",
    "q2 = df[df['report_issuance_quarter'] == '4/1/19']\n",
    "preq2 = df[df['report_issuance_quarter'] != '4/1/19']\n"
   ]
  },
  {
   "cell_type": "code",
   "execution_count": 55,
   "metadata": {},
   "outputs": [],
   "source": [
    "df_counts = df[target_col].value_counts().reset_index()\n",
    "preq2_counts = preq2[target_col].value_counts().reset_index()"
   ]
  },
  {
   "cell_type": "code",
   "execution_count": 61,
   "metadata": {},
   "outputs": [
    {
     "data": {
      "text/plain": [
       "0    2046\n",
       "1     508\n",
       "Name: issue_risk_rating, dtype: int64"
      ]
     },
     "execution_count": 61,
     "metadata": {},
     "output_type": "execute_result"
    }
   ],
   "source": [
    "df_counts['issue_risk_rating']"
   ]
  },
  {
   "cell_type": "code",
   "execution_count": null,
   "metadata": {
    "collapsed": true
   },
   "outputs": [],
   "source": [
    "/df_counts.shape[0]"
   ]
  },
  {
   "cell_type": "code",
   "execution_count": 69,
   "metadata": {},
   "outputs": [
    {
     "data": {
      "image/png": "iVBORw0KGgoAAAANSUhEUgAAAfgAAAFlCAYAAAAH0PriAAAABHNCSVQICAgIfAhkiAAAAAlwSFlz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\n",
      "text/plain": [
       "<matplotlib.figure.Figure at 0x1417654a8>"
      ]
     },
     "metadata": {},
     "output_type": "display_data"
    }
   ],
   "source": [
    "import numpy as np\n",
    "import matplotlib.pyplot as plt\n",
    "import pylab as plt\n",
    "x = [0,1,2]\n",
    "labels = ['Low/Meidum', 'High']\n",
    "plt.bar([0,1],df_counts['issue_risk_rating'], color=['b', 'r'])\n",
    "plt.xticks(x, labels)\n",
    "plt.ylabel('Number of occurence')\n",
    "plt.xlabel(\"Issue Risk Rating\")\n",
    "plt.title('Low/Medium vs High ')\n",
    "plt.show()\n"
   ]
  },
  {
   "cell_type": "code",
   "execution_count": 70,
   "metadata": {
    "collapsed": true
   },
   "outputs": [],
   "source": [
    "from sklearn.feature_extraction.text import CountVectorizer\n",
    "from sklearn.model_selection import train_test_split\n",
    "from sklearn.linear_model import LogisticRegression\n",
    "from sklearn.metrics import confusion_matrix, accuracy_score, fbeta_score\n"
   ]
  },
  {
   "cell_type": "code",
   "execution_count": 71,
   "metadata": {
    "collapsed": true
   },
   "outputs": [],
   "source": [
    "up_sampled = util.upsample(preq2, target_col)\n"
   ]
  },
  {
   "cell_type": "code",
   "execution_count": 88,
   "metadata": {
    "collapsed": true
   },
   "outputs": [],
   "source": [
    "vectorizer =  CountVectorizer(tokenizer=util.spacy_tokenizer, ngram_range=(1,1))\n",
    "X_train = vectorizer.fit_transform(up_sampled[issue_col])\n",
    "X_test = vectorizer.transform(q2[issue_col])"
   ]
  },
  {
   "cell_type": "code",
   "execution_count": 89,
   "metadata": {},
   "outputs": [
    {
     "name": "stderr",
     "output_type": "stream",
     "text": [
      "/anaconda3/envs/py36/lib/python3.6/site-packages/sklearn/linear_model/logistic.py:432: FutureWarning: Default solver will be changed to 'lbfgs' in 0.22. Specify a solver to silence this warning.\n",
      "  FutureWarning)\n"
     ]
    },
    {
     "data": {
      "text/plain": [
       "LogisticRegression(C=1.0, class_weight=None, dual=False, fit_intercept=True,\n",
       "                   intercept_scaling=1, l1_ratio=None, max_iter=100,\n",
       "                   multi_class='warn', n_jobs=None, penalty='l2',\n",
       "                   random_state=None, solver='warn', tol=0.0001, verbose=0,\n",
       "                   warm_start=False)"
      ]
     },
     "execution_count": 89,
     "metadata": {},
     "output_type": "execute_result"
    }
   ],
   "source": [
    "lr = LogisticRegression()\n",
    "lr.fit(X_train, up_sampled[target_col])"
   ]
  },
  {
   "cell_type": "code",
   "execution_count": 93,
   "metadata": {},
   "outputs": [
    {
     "name": "stdout",
     "output_type": "stream",
     "text": [
      "Accuracy Score for Model 0.8571428571428571\n",
      "F2 Score for Model 0.5825242718446602\n"
     ]
    }
   ],
   "source": [
    "y_pred = lr.predict(X_test)\n",
    "cm = confusion_matrix(q2[target_col],y_pred)\n",
    "print(\"Accuracy Score for Model {}\".format(accuracy_score(q2[target_col], y_pred)))\n",
    "print(\"F2 Score for Model {}\".format(fbeta_score(q2[target_col], y_pred, beta=2)))\n"
   ]
  },
  {
   "cell_type": "code",
   "execution_count": 98,
   "metadata": {},
   "outputs": [
    {
     "data": {
      "image/png": "iVBORw0KGgoAAAANSUhEUgAAAcwAAAFOCAYAAAALoy1VAAAABHNCSVQICAgIfAhkiAAAAAlwSFlz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\n",
      "text/plain": [
       "<matplotlib.figure.Figure at 0x141402630>"
      ]
     },
     "metadata": {},
     "output_type": "display_data"
    }
   ],
   "source": [
    "import seaborn as sn\n",
    "df_cm = pd.DataFrame(cm, ['low/medium', 'high'],\n",
    "                  ['low/medium', 'high'])\n",
    "#plt.figure(figsize = (10,7))\n",
    "sn.set(font_scale=1.4)#for label size\n",
    "sn.heatmap(df_cm, annot=True,annot_kws={\"size\": 16})# font size\n",
    "plt.show()"
   ]
  },
  {
   "cell_type": "markdown",
   "metadata": {},
   "source": [
    "## "
   ]
  },
  {
   "cell_type": "code",
   "execution_count": 100,
   "metadata": {},
   "outputs": [],
   "source": [
    "lmh_res = q2[[issue_col, target_col]]"
   ]
  },
  {
   "cell_type": "code",
   "execution_count": 104,
   "metadata": {},
   "outputs": [
    {
     "name": "stderr",
     "output_type": "stream",
     "text": [
      "/anaconda3/envs/py36/lib/python3.6/site-packages/ipykernel_launcher.py:1: SettingWithCopyWarning: \n",
      "A value is trying to be set on a copy of a slice from a DataFrame.\n",
      "Try using .loc[row_indexer,col_indexer] = value instead\n",
      "\n",
      "See the caveats in the documentation: http://pandas.pydata.org/pandas-docs/stable/user_guide/indexing.html#returning-a-view-versus-a-copy\n",
      "  \"\"\"Entry point for launching an IPython kernel.\n",
      "/anaconda3/envs/py36/lib/python3.6/site-packages/ipykernel_launcher.py:2: SettingWithCopyWarning: \n",
      "A value is trying to be set on a copy of a slice from a DataFrame.\n",
      "Try using .loc[row_indexer,col_indexer] = value instead\n",
      "\n",
      "See the caveats in the documentation: http://pandas.pydata.org/pandas-docs/stable/user_guide/indexing.html#returning-a-view-versus-a-copy\n",
      "  \n"
     ]
    }
   ],
   "source": [
    "lmh_res['pred'] = y_pred\n",
    "lmh_res['mask'] = lmh_res[target_col] == lmh_res['pred']"
   ]
  },
  {
   "cell_type": "code",
   "execution_count": 106,
   "metadata": {},
   "outputs": [],
   "source": [
    "bad_lmh=lmh_res[lmh_res['mask']==False]"
   ]
  },
  {
   "cell_type": "code",
   "execution_count": 128,
   "metadata": {},
   "outputs": [
    {
     "data": {
      "text/html": [
       "<div>\n",
       "<style scoped>\n",
       "    .dataframe tbody tr th:only-of-type {\n",
       "        vertical-align: middle;\n",
       "    }\n",
       "\n",
       "    .dataframe tbody tr th {\n",
       "        vertical-align: top;\n",
       "    }\n",
       "\n",
       "    .dataframe thead th {\n",
       "        text-align: right;\n",
       "    }\n",
       "</style>\n",
       "<table border=\"1\" class=\"dataframe\">\n",
       "  <thead>\n",
       "    <tr style=\"text-align: right;\">\n",
       "      <th></th>\n",
       "      <th>issue</th>\n",
       "      <th>issue_risk_rating</th>\n",
       "      <th>pred</th>\n",
       "      <th>mask</th>\n",
       "    </tr>\n",
       "  </thead>\n",
       "  <tbody>\n",
       "    <tr>\n",
       "      <th>2535</th>\n",
       "      <td>Conduent is responsible for network operations...</td>\n",
       "      <td>0</td>\n",
       "      <td>1</td>\n",
       "      <td>False</td>\n",
       "    </tr>\n",
       "    <tr>\n",
       "      <th>2539</th>\n",
       "      <td>Direct dispute response letters are sent to cu...</td>\n",
       "      <td>1</td>\n",
       "      <td>0</td>\n",
       "      <td>False</td>\n",
       "    </tr>\n",
       "    <tr>\n",
       "      <th>2543</th>\n",
       "      <td>One aspect of network device management is the...</td>\n",
       "      <td>0</td>\n",
       "      <td>1</td>\n",
       "      <td>False</td>\n",
       "    </tr>\n",
       "    <tr>\n",
       "      <th>2544</th>\n",
       "      <td>Amazon Connect is a cloud-based service that i...</td>\n",
       "      <td>1</td>\n",
       "      <td>0</td>\n",
       "      <td>False</td>\n",
       "    </tr>\n",
       "    <tr>\n",
       "      <th>2570</th>\n",
       "      <td>The Returns and Exceptions team did not timely...</td>\n",
       "      <td>1</td>\n",
       "      <td>0</td>\n",
       "      <td>False</td>\n",
       "    </tr>\n",
       "    <tr>\n",
       "      <th>2574</th>\n",
       "      <td>The AuthDecisioning and AuthControl applicatio...</td>\n",
       "      <td>1</td>\n",
       "      <td>0</td>\n",
       "      <td>False</td>\n",
       "    </tr>\n",
       "    <tr>\n",
       "      <th>2585</th>\n",
       "      <td>Issue and Implication A new set of US Card Uni...</td>\n",
       "      <td>0</td>\n",
       "      <td>1</td>\n",
       "      <td>False</td>\n",
       "    </tr>\n",
       "    <tr>\n",
       "      <th>2586</th>\n",
       "      <td>Issue and Implication Management has improved ...</td>\n",
       "      <td>0</td>\n",
       "      <td>1</td>\n",
       "      <td>False</td>\n",
       "    </tr>\n",
       "    <tr>\n",
       "      <th>2587</th>\n",
       "      <td>Issue and Implication CCAR and DFAST stress te...</td>\n",
       "      <td>0</td>\n",
       "      <td>1</td>\n",
       "      <td>False</td>\n",
       "    </tr>\n",
       "    <tr>\n",
       "      <th>2602</th>\n",
       "      <td>The Community Reinvestment Act (CRA) requires ...</td>\n",
       "      <td>0</td>\n",
       "      <td>1</td>\n",
       "      <td>False</td>\n",
       "    </tr>\n",
       "    <tr>\n",
       "      <th>2611</th>\n",
       "      <td>Management leverages the Proactive Risk Identi...</td>\n",
       "      <td>0</td>\n",
       "      <td>1</td>\n",
       "      <td>False</td>\n",
       "    </tr>\n",
       "    <tr>\n",
       "      <th>2616</th>\n",
       "      <td>Signature cards are used to evidence that a cu...</td>\n",
       "      <td>1</td>\n",
       "      <td>0</td>\n",
       "      <td>False</td>\n",
       "    </tr>\n",
       "    <tr>\n",
       "      <th>2618</th>\n",
       "      <td>To close a retail deposit account properly, th...</td>\n",
       "      <td>0</td>\n",
       "      <td>1</td>\n",
       "      <td>False</td>\n",
       "    </tr>\n",
       "    <tr>\n",
       "      <th>2621</th>\n",
       "      <td>Audit’s review of 30 cases investigated by the...</td>\n",
       "      <td>1</td>\n",
       "      <td>0</td>\n",
       "      <td>False</td>\n",
       "    </tr>\n",
       "    <tr>\n",
       "      <th>2630</th>\n",
       "      <td>Sales Data Control (SDC) is a team within Clie...</td>\n",
       "      <td>1</td>\n",
       "      <td>0</td>\n",
       "      <td>False</td>\n",
       "    </tr>\n",
       "    <tr>\n",
       "      <th>2632</th>\n",
       "      <td>Prior to fulfilling a customer request or prov...</td>\n",
       "      <td>0</td>\n",
       "      <td>1</td>\n",
       "      <td>False</td>\n",
       "    </tr>\n",
       "    <tr>\n",
       "      <th>2644</th>\n",
       "      <td>The detection of missing transaction monitorin...</td>\n",
       "      <td>1</td>\n",
       "      <td>0</td>\n",
       "      <td>False</td>\n",
       "    </tr>\n",
       "    <tr>\n",
       "      <th>2650</th>\n",
       "      <td>TSYS established a multi‐layered security prog...</td>\n",
       "      <td>0</td>\n",
       "      <td>1</td>\n",
       "      <td>False</td>\n",
       "    </tr>\n",
       "    <tr>\n",
       "      <th>2662</th>\n",
       "      <td>In support of protecting Capital One’s technol...</td>\n",
       "      <td>0</td>\n",
       "      <td>1</td>\n",
       "      <td>False</td>\n",
       "    </tr>\n",
       "  </tbody>\n",
       "</table>\n",
       "</div>"
      ],
      "text/plain": [
       "                                                  issue  issue_risk_rating  \\\n",
       "2535  Conduent is responsible for network operations...                  0   \n",
       "2539  Direct dispute response letters are sent to cu...                  1   \n",
       "2543  One aspect of network device management is the...                  0   \n",
       "2544  Amazon Connect is a cloud-based service that i...                  1   \n",
       "2570  The Returns and Exceptions team did not timely...                  1   \n",
       "2574  The AuthDecisioning and AuthControl applicatio...                  1   \n",
       "2585  Issue and Implication A new set of US Card Uni...                  0   \n",
       "2586  Issue and Implication Management has improved ...                  0   \n",
       "2587  Issue and Implication CCAR and DFAST stress te...                  0   \n",
       "2602  The Community Reinvestment Act (CRA) requires ...                  0   \n",
       "2611  Management leverages the Proactive Risk Identi...                  0   \n",
       "2616  Signature cards are used to evidence that a cu...                  1   \n",
       "2618  To close a retail deposit account properly, th...                  0   \n",
       "2621  Audit’s review of 30 cases investigated by the...                  1   \n",
       "2630  Sales Data Control (SDC) is a team within Clie...                  1   \n",
       "2632  Prior to fulfilling a customer request or prov...                  0   \n",
       "2644  The detection of missing transaction monitorin...                  1   \n",
       "2650  TSYS established a multi‐layered security prog...                  0   \n",
       "2662  In support of protecting Capital One’s technol...                  0   \n",
       "\n",
       "      pred   mask  \n",
       "2535     1  False  \n",
       "2539     0  False  \n",
       "2543     1  False  \n",
       "2544     0  False  \n",
       "2570     0  False  \n",
       "2574     0  False  \n",
       "2585     1  False  \n",
       "2586     1  False  \n",
       "2587     1  False  \n",
       "2602     1  False  \n",
       "2611     1  False  \n",
       "2616     0  False  \n",
       "2618     1  False  \n",
       "2621     0  False  \n",
       "2630     0  False  \n",
       "2632     1  False  \n",
       "2644     0  False  \n",
       "2650     1  False  \n",
       "2662     1  False  "
      ]
     },
     "execution_count": 128,
     "metadata": {},
     "output_type": "execute_result"
    }
   ],
   "source": [
    "bad_lmh"
   ]
  },
  {
   "cell_type": "code",
   "execution_count": 135,
   "metadata": {},
   "outputs": [
    {
     "data": {
      "text/plain": [
       "issue                Amazon Connect is a cloud-based service that i...\n",
       "issue_risk_rating                                                    1\n",
       "pred                                                                 0\n",
       "mask                                                             False\n",
       "Name: 2544, dtype: object"
      ]
     },
     "execution_count": 135,
     "metadata": {},
     "output_type": "execute_result"
    }
   ],
   "source": [
    "bad_lmh.iloc[3]"
   ]
  },
  {
   "cell_type": "code",
   "execution_count": 136,
   "metadata": {},
   "outputs": [
    {
     "data": {
      "text/plain": [
       "'Amazon Connect is a cloud-based service that is used by Retail Bank, Card, and Financial Services to support certain contact centers and telephony services (e.g., call routing, recording, and retention). Management is continuing to evaluate the service as part of the enterprise service adoption process (i.e., Service Adoption Framework) and develop requisite controls, guidelines, and associated monitoring. As such, Amazon Connect was implemented by these lines of business in accordance with the enterprise exception approval process that requires an assessment of risk, implementation of compensating controls, and stakeholder approvals. However, opportunities were identified to further enhance governance associated with Amazon Connect and reduce risk associated with use of the service. Specifically, cen tralized controls and corresponding monitoring are not yet established, a nd the exception process did not contemplate measuring risk associated with service use , which impacts the comprehensiveness of th e enterprise cloud risk metrics . Additionally, the exceptions that Card and Retail Bank initially obtained for service use have subsequently expired, and lines of business have not consistently implemented Amazon Connect controls that could result in impacts to data confidentiality, integrity, and availability . For example, the Retail Bank service was not architected to operate in the segment of the environment designed for systems that process sensitive data , and lines of business are not consistently monitoring privileged user activity on the platform as required by the Information Security Standard . The associated risk is partially reduced as certain security features are enabled by default for Amazon Connect (e.g., retention of immutable user activity logs, encryption of data in transit), and the Amazon Connect instances operate in an isolated account not shared with other services. Additionally, data is stored at rest in encrypted S3 buckets in files and are not easily searchable by design (i.e., audio files).'"
      ]
     },
     "execution_count": 136,
     "metadata": {},
     "output_type": "execute_result"
    }
   ],
   "source": [
    "bad_lmh[issue_col].iloc[3]"
   ]
  },
  {
   "cell_type": "code",
   "execution_count": 224,
   "metadata": {},
   "outputs": [
    {
     "name": "stderr",
     "output_type": "stream",
     "text": [
      "2019-08-09 09:06:26,212 - INFO: Loading CSV: ../data/all_issue_trending_2019_q2.csv\n",
      "2019-08-09 09:06:26,303 - INFO: Removing rows with no issue text. Original size: 2920\n",
      "2019-08-09 09:06:26,308 - INFO: Size after removing null issue text: 2554\n",
      "2019-08-09 09:06:26,310 - INFO: Preprocessing target: compliance_impact\n"
     ]
    }
   ],
   "source": [
    "issue_col = 'issue'\n",
    "target_col = 'compliance_impact'\n",
    "filepath = '../data/all_issue_trending_2019_q2.csv'\n",
    "df = util.load_csv(filepath)\n",
    "df = util.preprocess_target(df, target_col)\n",
    "q2 = df[df['report_issuance_quarter'] == '4/1/19']\n",
    "preq2 = df[df['report_issuance_quarter'] != '4/1/19']\n"
   ]
  },
  {
   "cell_type": "code",
   "execution_count": 225,
   "metadata": {
    "collapsed": true
   },
   "outputs": [],
   "source": [
    "df_counts = df[target_col].value_counts().reset_index()\n",
    "preq2_counts = preq2[target_col].value_counts().reset_index()"
   ]
  },
  {
   "cell_type": "code",
   "execution_count": 226,
   "metadata": {},
   "outputs": [
    {
     "data": {
      "text/html": [
       "<div>\n",
       "<style scoped>\n",
       "    .dataframe tbody tr th:only-of-type {\n",
       "        vertical-align: middle;\n",
       "    }\n",
       "\n",
       "    .dataframe tbody tr th {\n",
       "        vertical-align: top;\n",
       "    }\n",
       "\n",
       "    .dataframe thead th {\n",
       "        text-align: right;\n",
       "    }\n",
       "</style>\n",
       "<table border=\"1\" class=\"dataframe\">\n",
       "  <thead>\n",
       "    <tr style=\"text-align: right;\">\n",
       "      <th></th>\n",
       "      <th>index</th>\n",
       "      <th>compliance_impact</th>\n",
       "    </tr>\n",
       "  </thead>\n",
       "  <tbody>\n",
       "    <tr>\n",
       "      <th>0</th>\n",
       "      <td>0</td>\n",
       "      <td>1261</td>\n",
       "    </tr>\n",
       "    <tr>\n",
       "      <th>1</th>\n",
       "      <td>1</td>\n",
       "      <td>1160</td>\n",
       "    </tr>\n",
       "  </tbody>\n",
       "</table>\n",
       "</div>"
      ],
      "text/plain": [
       "   index  compliance_impact\n",
       "0      0               1261\n",
       "1      1               1160"
      ]
     },
     "execution_count": 226,
     "metadata": {},
     "output_type": "execute_result"
    }
   ],
   "source": [
    "preq2_counts"
   ]
  },
  {
   "cell_type": "code",
   "execution_count": 117,
   "metadata": {
    "scrolled": true
   },
   "outputs": [
    {
     "data": {
      "image/png": "iVBORw0KGgoAAAANSUhEUgAAAgQAAAFyCAYAAACKkcLXAAAABHNCSVQICAgIfAhkiAAAAAlwSFlz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\n",
      "text/plain": [
       "<matplotlib.figure.Figure at 0x14143c208>"
      ]
     },
     "metadata": {},
     "output_type": "display_data"
    }
   ],
   "source": [
    "import numpy as np\n",
    "import matplotlib.pyplot as plt\n",
    "import pylab as plt\n",
    "x = [0,1,2]\n",
    "labels = ['No', 'Yes']\n",
    "plt.bar([0,1],df_counts[target_col], color=['b', 'r'])\n",
    "plt.xticks(x, labels)\n",
    "plt.ylabel('Number of occurence')\n",
    "plt.xlabel(\"Compliance Impact Label\")\n",
    "plt.title('No vs Yes ')\n",
    "plt.show()\n"
   ]
  },
  {
   "cell_type": "code",
   "execution_count": 120,
   "metadata": {
    "collapsed": true
   },
   "outputs": [],
   "source": [
    "vectorizer =  CountVectorizer(tokenizer=util.spacy_tokenizer, ngram_range=(1,2))\n",
    "X_train = vectorizer.fit_transform(preq2[issue_col])\n",
    "X_test = vectorizer.transform(q2[issue_col])"
   ]
  },
  {
   "cell_type": "code",
   "execution_count": 122,
   "metadata": {
    "collapsed": true
   },
   "outputs": [],
   "source": [
    "from sklearn.naive_bayes import MultinomialNB\n"
   ]
  },
  {
   "cell_type": "code",
   "execution_count": 124,
   "metadata": {},
   "outputs": [
    {
     "data": {
      "text/plain": [
       "MultinomialNB(alpha=1.0, class_prior=None, fit_prior=True)"
      ]
     },
     "execution_count": 124,
     "metadata": {},
     "output_type": "execute_result"
    }
   ],
   "source": [
    "mnb = MultinomialNB()\n",
    "mnb.fit(X_train, preq2[target_col])"
   ]
  },
  {
   "cell_type": "code",
   "execution_count": 125,
   "metadata": {},
   "outputs": [
    {
     "name": "stdout",
     "output_type": "stream",
     "text": [
      "Accuracy Score for Model 0.7969924812030075\n",
      "F2 Score for Model 0.7610619469026548\n"
     ]
    }
   ],
   "source": [
    "y_pred = mnb.predict(X_test)\n",
    "cm = confusion_matrix(q2[target_col],y_pred)\n",
    "print(\"Accuracy Score for Model {}\".format(accuracy_score(q2[target_col], y_pred)))\n",
    "print(\"F2 Score for Model {}\".format(fbeta_score(q2[target_col], y_pred, beta=1)))\n"
   ]
  },
  {
   "cell_type": "code",
   "execution_count": 126,
   "metadata": {},
   "outputs": [
    {
     "data": {
      "image/png": "iVBORw0KGgoAAAANSUhEUgAAAcQAAAFOCAYAAAAYdG2hAAAABHNCSVQICAgIfAhkiAAAAAlwSFlz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\n",
      "text/plain": [
       "<matplotlib.figure.Figure at 0x144069b38>"
      ]
     },
     "metadata": {},
     "output_type": "display_data"
    }
   ],
   "source": [
    "import seaborn as sn\n",
    "df_cm = pd.DataFrame(cm, ['No', 'Yes'],\n",
    "                  ['No', 'Yes'])\n",
    "#plt.figure(figsize = (10,7))\n",
    "sn.set(font_scale=1.4)#for label size\n",
    "sn.heatmap(df_cm, annot=True,annot_kws={\"size\": 16})# font size\n",
    "plt.show()"
   ]
  },
  {
   "cell_type": "code",
   "execution_count": 137,
   "metadata": {},
   "outputs": [
    {
     "name": "stderr",
     "output_type": "stream",
     "text": [
      "/anaconda3/envs/py36/lib/python3.6/site-packages/ipykernel_launcher.py:2: SettingWithCopyWarning: \n",
      "A value is trying to be set on a copy of a slice from a DataFrame.\n",
      "Try using .loc[row_indexer,col_indexer] = value instead\n",
      "\n",
      "See the caveats in the documentation: http://pandas.pydata.org/pandas-docs/stable/user_guide/indexing.html#returning-a-view-versus-a-copy\n",
      "  \n",
      "/anaconda3/envs/py36/lib/python3.6/site-packages/ipykernel_launcher.py:3: SettingWithCopyWarning: \n",
      "A value is trying to be set on a copy of a slice from a DataFrame.\n",
      "Try using .loc[row_indexer,col_indexer] = value instead\n",
      "\n",
      "See the caveats in the documentation: http://pandas.pydata.org/pandas-docs/stable/user_guide/indexing.html#returning-a-view-versus-a-copy\n",
      "  This is separate from the ipykernel package so we can avoid doing imports until\n"
     ]
    }
   ],
   "source": [
    "comp_res = q2[[issue_col, target_col]]\n",
    "comp_res['pred'] = y_pred\n",
    "comp_res['mask'] = comp_res[target_col] == comp_res['pred']"
   ]
  },
  {
   "cell_type": "code",
   "execution_count": 138,
   "metadata": {
    "collapsed": true
   },
   "outputs": [],
   "source": [
    "bad_comp=comp_res[comp_res['mask']==False]"
   ]
  },
  {
   "cell_type": "code",
   "execution_count": 142,
   "metadata": {},
   "outputs": [
    {
     "data": {
      "text/html": [
       "<div>\n",
       "<style scoped>\n",
       "    .dataframe tbody tr th:only-of-type {\n",
       "        vertical-align: middle;\n",
       "    }\n",
       "\n",
       "    .dataframe tbody tr th {\n",
       "        vertical-align: top;\n",
       "    }\n",
       "\n",
       "    .dataframe thead th {\n",
       "        text-align: right;\n",
       "    }\n",
       "</style>\n",
       "<table border=\"1\" class=\"dataframe\">\n",
       "  <thead>\n",
       "    <tr style=\"text-align: right;\">\n",
       "      <th></th>\n",
       "      <th>issue</th>\n",
       "      <th>compliance_impact</th>\n",
       "      <th>pred</th>\n",
       "      <th>mask</th>\n",
       "    </tr>\n",
       "  </thead>\n",
       "  <tbody>\n",
       "    <tr>\n",
       "      <th>2531</th>\n",
       "      <td>Canada Card uses PRIME as the system of record...</td>\n",
       "      <td>0</td>\n",
       "      <td>1</td>\n",
       "      <td>False</td>\n",
       "    </tr>\n",
       "    <tr>\n",
       "      <th>2540</th>\n",
       "      <td>The use of social media continues to expand as...</td>\n",
       "      <td>0</td>\n",
       "      <td>1</td>\n",
       "      <td>False</td>\n",
       "    </tr>\n",
       "    <tr>\n",
       "      <th>2549</th>\n",
       "      <td>Corporate Third Party Management (TPM) policy ...</td>\n",
       "      <td>0</td>\n",
       "      <td>1</td>\n",
       "      <td>False</td>\n",
       "    </tr>\n",
       "    <tr>\n",
       "      <th>2550</th>\n",
       "      <td>Under COAF’s Pay Ahead policy, accounts cannot...</td>\n",
       "      <td>0</td>\n",
       "      <td>1</td>\n",
       "      <td>False</td>\n",
       "    </tr>\n",
       "    <tr>\n",
       "      <th>2551</th>\n",
       "      <td>Customers may appoint another person or entity...</td>\n",
       "      <td>0</td>\n",
       "      <td>1</td>\n",
       "      <td>False</td>\n",
       "    </tr>\n",
       "    <tr>\n",
       "      <th>2553</th>\n",
       "      <td>Various dashboards are leveraged by Canada Car...</td>\n",
       "      <td>0</td>\n",
       "      <td>1</td>\n",
       "      <td>False</td>\n",
       "    </tr>\n",
       "    <tr>\n",
       "      <th>2555</th>\n",
       "      <td>Control plan frequency information captured wi...</td>\n",
       "      <td>0</td>\n",
       "      <td>1</td>\n",
       "      <td>False</td>\n",
       "    </tr>\n",
       "    <tr>\n",
       "      <th>2556</th>\n",
       "      <td>Canada Card leverages Loon Guard, a monitoring...</td>\n",
       "      <td>0</td>\n",
       "      <td>1</td>\n",
       "      <td>False</td>\n",
       "    </tr>\n",
       "    <tr>\n",
       "      <th>2557</th>\n",
       "      <td>The COAF Reporting and Governance Team is resp...</td>\n",
       "      <td>0</td>\n",
       "      <td>1</td>\n",
       "      <td>False</td>\n",
       "    </tr>\n",
       "    <tr>\n",
       "      <th>2562</th>\n",
       "      <td>Management should continue to enhance procedur...</td>\n",
       "      <td>0</td>\n",
       "      <td>1</td>\n",
       "      <td>False</td>\n",
       "    </tr>\n",
       "    <tr>\n",
       "      <th>2563</th>\n",
       "      <td>The Capital One Financial Corporation (COFC) C...</td>\n",
       "      <td>0</td>\n",
       "      <td>1</td>\n",
       "      <td>False</td>\n",
       "    </tr>\n",
       "    <tr>\n",
       "      <th>2571</th>\n",
       "      <td>According to OCC Risk Management Guidance (OCC...</td>\n",
       "      <td>0</td>\n",
       "      <td>1</td>\n",
       "      <td>False</td>\n",
       "    </tr>\n",
       "    <tr>\n",
       "      <th>2574</th>\n",
       "      <td>The AuthDecisioning and AuthControl applicatio...</td>\n",
       "      <td>1</td>\n",
       "      <td>0</td>\n",
       "      <td>False</td>\n",
       "    </tr>\n",
       "    <tr>\n",
       "      <th>2580</th>\n",
       "      <td>Condition – The Data Analytics (DA) team uses ...</td>\n",
       "      <td>0</td>\n",
       "      <td>1</td>\n",
       "      <td>False</td>\n",
       "    </tr>\n",
       "    <tr>\n",
       "      <th>2610</th>\n",
       "      <td>Regulation Z dispute requirements define expec...</td>\n",
       "      <td>0</td>\n",
       "      <td>1</td>\n",
       "      <td>False</td>\n",
       "    </tr>\n",
       "    <tr>\n",
       "      <th>2612</th>\n",
       "      <td>Visa Resolve Online (VROL) is an external solu...</td>\n",
       "      <td>1</td>\n",
       "      <td>0</td>\n",
       "      <td>False</td>\n",
       "    </tr>\n",
       "    <tr>\n",
       "      <th>2614</th>\n",
       "      <td>The Profile Account Opening Failure Mode Effec...</td>\n",
       "      <td>0</td>\n",
       "      <td>1</td>\n",
       "      <td>False</td>\n",
       "    </tr>\n",
       "    <tr>\n",
       "      <th>2619</th>\n",
       "      <td>Agents must input a closure reason in the syst...</td>\n",
       "      <td>0</td>\n",
       "      <td>1</td>\n",
       "      <td>False</td>\n",
       "    </tr>\n",
       "    <tr>\n",
       "      <th>2628</th>\n",
       "      <td>Audit’s review of 30 alerts/cases investigated...</td>\n",
       "      <td>0</td>\n",
       "      <td>1</td>\n",
       "      <td>False</td>\n",
       "    </tr>\n",
       "    <tr>\n",
       "      <th>2630</th>\n",
       "      <td>Sales Data Control (SDC) is a team within Clie...</td>\n",
       "      <td>0</td>\n",
       "      <td>1</td>\n",
       "      <td>False</td>\n",
       "    </tr>\n",
       "    <tr>\n",
       "      <th>2631</th>\n",
       "      <td>Management across the Commercial Bank needs to...</td>\n",
       "      <td>0</td>\n",
       "      <td>1</td>\n",
       "      <td>False</td>\n",
       "    </tr>\n",
       "    <tr>\n",
       "      <th>2633</th>\n",
       "      <td>Documentation supporting new Treasury Manageme...</td>\n",
       "      <td>0</td>\n",
       "      <td>1</td>\n",
       "      <td>False</td>\n",
       "    </tr>\n",
       "    <tr>\n",
       "      <th>2637</th>\n",
       "      <td>Capital One is required to capitalize certain ...</td>\n",
       "      <td>0</td>\n",
       "      <td>1</td>\n",
       "      <td>False</td>\n",
       "    </tr>\n",
       "    <tr>\n",
       "      <th>2641</th>\n",
       "      <td>Condition: The Traded Markets and Counterparty...</td>\n",
       "      <td>1</td>\n",
       "      <td>0</td>\n",
       "      <td>False</td>\n",
       "    </tr>\n",
       "    <tr>\n",
       "      <th>2646</th>\n",
       "      <td>The AML Lookback Framework does not define min...</td>\n",
       "      <td>0</td>\n",
       "      <td>1</td>\n",
       "      <td>False</td>\n",
       "    </tr>\n",
       "    <tr>\n",
       "      <th>2647</th>\n",
       "      <td>The overall design and operating effectiveness...</td>\n",
       "      <td>0</td>\n",
       "      <td>1</td>\n",
       "      <td>False</td>\n",
       "    </tr>\n",
       "    <tr>\n",
       "      <th>2653</th>\n",
       "      <td>In March 2019, Enterprise Supplier Management ...</td>\n",
       "      <td>1</td>\n",
       "      <td>0</td>\n",
       "      <td>False</td>\n",
       "    </tr>\n",
       "  </tbody>\n",
       "</table>\n",
       "</div>"
      ],
      "text/plain": [
       "                                                  issue  compliance_impact  \\\n",
       "2531  Canada Card uses PRIME as the system of record...                  0   \n",
       "2540  The use of social media continues to expand as...                  0   \n",
       "2549  Corporate Third Party Management (TPM) policy ...                  0   \n",
       "2550  Under COAF’s Pay Ahead policy, accounts cannot...                  0   \n",
       "2551  Customers may appoint another person or entity...                  0   \n",
       "2553  Various dashboards are leveraged by Canada Car...                  0   \n",
       "2555  Control plan frequency information captured wi...                  0   \n",
       "2556  Canada Card leverages Loon Guard, a monitoring...                  0   \n",
       "2557  The COAF Reporting and Governance Team is resp...                  0   \n",
       "2562  Management should continue to enhance procedur...                  0   \n",
       "2563  The Capital One Financial Corporation (COFC) C...                  0   \n",
       "2571  According to OCC Risk Management Guidance (OCC...                  0   \n",
       "2574  The AuthDecisioning and AuthControl applicatio...                  1   \n",
       "2580  Condition – The Data Analytics (DA) team uses ...                  0   \n",
       "2610  Regulation Z dispute requirements define expec...                  0   \n",
       "2612  Visa Resolve Online (VROL) is an external solu...                  1   \n",
       "2614  The Profile Account Opening Failure Mode Effec...                  0   \n",
       "2619  Agents must input a closure reason in the syst...                  0   \n",
       "2628  Audit’s review of 30 alerts/cases investigated...                  0   \n",
       "2630  Sales Data Control (SDC) is a team within Clie...                  0   \n",
       "2631  Management across the Commercial Bank needs to...                  0   \n",
       "2633  Documentation supporting new Treasury Manageme...                  0   \n",
       "2637  Capital One is required to capitalize certain ...                  0   \n",
       "2641  Condition: The Traded Markets and Counterparty...                  1   \n",
       "2646  The AML Lookback Framework does not define min...                  0   \n",
       "2647  The overall design and operating effectiveness...                  0   \n",
       "2653  In March 2019, Enterprise Supplier Management ...                  1   \n",
       "\n",
       "      pred   mask  \n",
       "2531     1  False  \n",
       "2540     1  False  \n",
       "2549     1  False  \n",
       "2550     1  False  \n",
       "2551     1  False  \n",
       "2553     1  False  \n",
       "2555     1  False  \n",
       "2556     1  False  \n",
       "2557     1  False  \n",
       "2562     1  False  \n",
       "2563     1  False  \n",
       "2571     1  False  \n",
       "2574     0  False  \n",
       "2580     1  False  \n",
       "2610     1  False  \n",
       "2612     0  False  \n",
       "2614     1  False  \n",
       "2619     1  False  \n",
       "2628     1  False  \n",
       "2630     1  False  \n",
       "2631     1  False  \n",
       "2633     1  False  \n",
       "2637     1  False  \n",
       "2641     0  False  \n",
       "2646     1  False  \n",
       "2647     1  False  \n",
       "2653     0  False  "
      ]
     },
     "execution_count": 142,
     "metadata": {},
     "output_type": "execute_result"
    }
   ],
   "source": [
    "bad_comp"
   ]
  },
  {
   "cell_type": "code",
   "execution_count": 143,
   "metadata": {},
   "outputs": [
    {
     "data": {
      "text/plain": [
       "'The AuthDecisioning and AuthControl applications, known as the Cerberus platform, are utilized for authorization decisioning of credit card transactions. While access to the Cerberus platform is appropriately restricted to application support teams, opportunities exist to enhance management of database access. Specifically: The Hazelcast database that supports the AuthDecisioning application is administered through an admin istrator account that is currently accessed and shared by 12 members of the database support team. While these individuals require access to the database to perform production support activities, access should be managed through assignment of ind ividual user accounts and secured password storage (e.g ., password vaulting in CyberArk) , in accordance with Information Security Standard requirements. Ineffective access management controls increase s the potential risk of inappropriate access to authorizations decisioning configurations , which could impact the execution and accuracy of transaction authorizations . One developer s upport ing the AuthControl application has been provided update access to the application ’ s PostgreSQL database. While the developer ’ s access is required for job responsibilities (e.g., support processing of record updates), database activity logging is not currently enabled , and the developer ’ s production access is not being managed through secured credential storing (e.g., a centralized password vault such as CyberArk) to ensure appropriate account use and traceability. Inappropriate developer access to the production database environment could result in changes implemented outside of the change control process , and potentially impact customer authorization preferences. While Capital One maintains a “layered defense in depth program” (e.g., multi-factor authentication, data loss prevention) for protection of customer data, and the Cerberus platform is monitored for performance and processing errors, ineffective management of database accounts supporting the authorizations platform increases the risk of inappropriate changes to customer authorization information and decisioning configurations.'"
      ]
     },
     "execution_count": 143,
     "metadata": {},
     "output_type": "execute_result"
    }
   ],
   "source": [
    "bad_comp['issue'].iloc[12]"
   ]
  },
  {
   "cell_type": "code",
   "execution_count": 227,
   "metadata": {},
   "outputs": [
    {
     "name": "stderr",
     "output_type": "stream",
     "text": [
      "2019-08-09 09:06:44,281 - INFO: Loading CSV: ../data/all_issue_trending_2019_q2.csv\n",
      "2019-08-09 09:06:44,363 - INFO: Removing rows with no issue text. Original size: 2920\n",
      "2019-08-09 09:06:44,368 - INFO: Size after removing null issue text: 2554\n",
      "2019-08-09 09:06:44,369 - INFO: Preprocessing target: root_cause_category\n",
      "2019-08-09 09:06:44,375 - INFO: Removing rows with unwanted target values. Starting size: 2554\n",
      "2019-08-09 09:06:44,381 - INFO: New size: 2156\n"
     ]
    }
   ],
   "source": [
    "issue_col = 'issue'\n",
    "target_col = 'root_cause_category'\n",
    "filepath = '../data/all_issue_trending_2019_q2.csv'\n",
    "df = util.load_csv(filepath)\n",
    "df = util.preprocess_target(df, target_col)\n",
    "q2 = df[df['report_issuance_quarter'] == '4/1/19']\n",
    "preq2 = df[df['report_issuance_quarter'] != '4/1/19']\n"
   ]
  },
  {
   "cell_type": "code",
   "execution_count": 228,
   "metadata": {
    "collapsed": true
   },
   "outputs": [],
   "source": [
    "df_counts = df[target_col].value_counts().reset_index()\n",
    "preq2_counts = preq2[target_col].value_counts().reset_index().sort_values(by=['index'])[target_col]"
   ]
  },
  {
   "cell_type": "code",
   "execution_count": 229,
   "metadata": {
    "collapsed": true
   },
   "outputs": [],
   "source": [
    "root_cause = ['a - misalignment of business strategy and objectives','b - missing/unclear oversight, accountability and risk awareness',\n",
    "'c - process design deficiencies','d - missing or insufficient policies/procedure','e - deficiencies in training and/or existing competencies',\n",
    "'f - resource limitations','g - ineffective testing and operational monitoring']"
   ]
  },
  {
   "cell_type": "code",
   "execution_count": null,
   "metadata": {},
   "outputs": [],
   "source": []
  },
  {
   "cell_type": "code",
   "execution_count": 230,
   "metadata": {},
   "outputs": [
    {
     "data": {
      "image/png": "iVBORw0KGgoAAAANSUhEUgAAAf0AAALuCAYAAACkZs8gAAAABHNCSVQICAgIfAhkiAAAAAlwSFlz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\nYII=\n",
      "text/plain": [
       "<matplotlib.figure.Figure at 0x1368aabe0>"
      ]
     },
     "metadata": {},
     "output_type": "display_data"
    }
   ],
   "source": [
    "import numpy as np\n",
    "import matplotlib.pyplot as plt\n",
    "import pylab as plt\n",
    "x = [0,1,2,3,4,5,6]\n",
    "labels = root_cause\n",
    "plt.bar(x,preq2_counts, color=['b', 'r'])\n",
    "plt.xticks(x, labels, rotation=90)\n",
    "plt.ylabel('Number of occurences')\n",
    "plt.xlabel(\"Root Causes Label\")\n",
    "plt.title('Root Cause')\n",
    "plt.show()\n"
   ]
  },
  {
   "cell_type": "code",
   "execution_count": 231,
   "metadata": {
    "collapsed": true
   },
   "outputs": [],
   "source": [
    "vectorizer =  CountVectorizer(tokenizer=util.spacy_tokenizer, ngram_range=(1,1))\n",
    "X_train = vectorizer.fit_transform(preq2[issue_col])\n",
    "X_test = vectorizer.transform(q2[issue_col])"
   ]
  },
  {
   "cell_type": "code",
   "execution_count": 234,
   "metadata": {},
   "outputs": [
    {
     "data": {
      "text/plain": [
       "XGBClassifier(base_score=0.5, booster='gbtree', colsample_bylevel=1,\n",
       "              colsample_bynode=1, colsample_bytree=1, gamma=0,\n",
       "              learning_rate=0.1, max_delta_step=0, max_depth=3,\n",
       "              min_child_weight=1, missing=None, n_estimators=100, n_jobs=1,\n",
       "              nthread=None, objective='multi:softprob', random_state=0,\n",
       "              reg_alpha=0, reg_lambda=1, scale_pos_weight=1, seed=None,\n",
       "              silent=None, subsample=1, verbosity=1)"
      ]
     },
     "execution_count": 234,
     "metadata": {},
     "output_type": "execute_result"
    }
   ],
   "source": [
    "from xgboost import XGBClassifier\n",
    "lr = XGBClassifier()\n",
    "lr.fit(X_train, preq2[target_col])"
   ]
  },
  {
   "cell_type": "code",
   "execution_count": 236,
   "metadata": {},
   "outputs": [
    {
     "name": "stdout",
     "output_type": "stream",
     "text": [
      "Accuracy Score for Model 0.5037593984962406\n",
      "F2 Score for Model 0.33906177156177153\n",
      "F2 Score for Model 0.4720967628862366\n"
     ]
    },
    {
     "name": "stderr",
     "output_type": "stream",
     "text": [
      "/anaconda3/envs/py36/lib/python3.6/site-packages/sklearn/metrics/classification.py:1437: UndefinedMetricWarning: F-score is ill-defined and being set to 0.0 in labels with no predicted samples.\n",
      "  'precision', 'predicted', average, warn_for)\n"
     ]
    }
   ],
   "source": [
    "y_pred = lr.predict(X_test)\n",
    "cm = confusion_matrix(q2[target_col],y_pred)\n",
    "print(\"Accuracy Score for Model {}\".format(accuracy_score(q2[target_col], y_pred)))\n",
    "print(\"F2 Score for Model {}\".format(fbeta_score(q2[target_col], y_pred, beta=1, average='macro')))\n",
    "print(\"F2 Score for Model {}\".format(fbeta_score(q2[target_col], y_pred, beta=1, average='weighted')))\n"
   ]
  },
  {
   "cell_type": "code",
   "execution_count": 238,
   "metadata": {},
   "outputs": [
    {
     "data": {
      "text/plain": [
       "array([[14, 26,  2,  0,  4],\n",
       "       [ 0, 44,  4,  0,  5],\n",
       "       [ 0,  8,  5,  0,  0],\n",
       "       [ 0,  0,  1,  0,  0],\n",
       "       [ 4, 12,  0,  0,  4]])"
      ]
     },
     "execution_count": 238,
     "metadata": {},
     "output_type": "execute_result"
    }
   ],
   "source": [
    "cm"
   ]
  },
  {
   "cell_type": "code",
   "execution_count": null,
   "metadata": {
    "collapsed": true
   },
   "outputs": [],
   "source": [
    "c"
   ]
  },
  {
   "cell_type": "code",
   "execution_count": 237,
   "metadata": {},
   "outputs": [
    {
     "ename": "ValueError",
     "evalue": "Shape of passed values is (5, 5), indices imply (7, 7)",
     "output_type": "error",
     "traceback": [
      "\u001b[0;31m---------------------------------------------------------------------------\u001b[0m",
      "\u001b[0;31mValueError\u001b[0m                                Traceback (most recent call last)",
      "\u001b[0;32m/anaconda3/envs/py36/lib/python3.6/site-packages/pandas/core/internals/managers.py\u001b[0m in \u001b[0;36mcreate_block_manager_from_blocks\u001b[0;34m(blocks, axes)\u001b[0m\n\u001b[1;32m   1676\u001b[0m                 blocks = [\n\u001b[0;32m-> 1677\u001b[0;31m                     \u001b[0mmake_block\u001b[0m\u001b[0;34m(\u001b[0m\u001b[0mvalues\u001b[0m\u001b[0;34m=\u001b[0m\u001b[0mblocks\u001b[0m\u001b[0;34m[\u001b[0m\u001b[0;36m0\u001b[0m\u001b[0;34m]\u001b[0m\u001b[0;34m,\u001b[0m \u001b[0mplacement\u001b[0m\u001b[0;34m=\u001b[0m\u001b[0mslice\u001b[0m\u001b[0;34m(\u001b[0m\u001b[0;36m0\u001b[0m\u001b[0;34m,\u001b[0m \u001b[0mlen\u001b[0m\u001b[0;34m(\u001b[0m\u001b[0maxes\u001b[0m\u001b[0;34m[\u001b[0m\u001b[0;36m0\u001b[0m\u001b[0;34m]\u001b[0m\u001b[0;34m)\u001b[0m\u001b[0;34m)\u001b[0m\u001b[0;34m)\u001b[0m\u001b[0;34m\u001b[0m\u001b[0m\n\u001b[0m\u001b[1;32m   1678\u001b[0m                 ]\n",
      "\u001b[0;32m/anaconda3/envs/py36/lib/python3.6/site-packages/pandas/core/internals/blocks.py\u001b[0m in \u001b[0;36mmake_block\u001b[0;34m(values, placement, klass, ndim, dtype, fastpath)\u001b[0m\n\u001b[1;32m   3264\u001b[0m \u001b[0;34m\u001b[0m\u001b[0m\n\u001b[0;32m-> 3265\u001b[0;31m     \u001b[0;32mreturn\u001b[0m \u001b[0mklass\u001b[0m\u001b[0;34m(\u001b[0m\u001b[0mvalues\u001b[0m\u001b[0;34m,\u001b[0m \u001b[0mndim\u001b[0m\u001b[0;34m=\u001b[0m\u001b[0mndim\u001b[0m\u001b[0;34m,\u001b[0m \u001b[0mplacement\u001b[0m\u001b[0;34m=\u001b[0m\u001b[0mplacement\u001b[0m\u001b[0;34m)\u001b[0m\u001b[0;34m\u001b[0m\u001b[0m\n\u001b[0m\u001b[1;32m   3266\u001b[0m \u001b[0;34m\u001b[0m\u001b[0m\n",
      "\u001b[0;32m/anaconda3/envs/py36/lib/python3.6/site-packages/pandas/core/internals/blocks.py\u001b[0m in \u001b[0;36m__init__\u001b[0;34m(self, values, placement, ndim)\u001b[0m\n\u001b[1;32m    127\u001b[0m                 \u001b[0;34m\"Wrong number of items passed {val}, placement implies \"\u001b[0m\u001b[0;34m\u001b[0m\u001b[0m\n\u001b[0;32m--> 128\u001b[0;31m                 \u001b[0;34m\"{mgr}\"\u001b[0m\u001b[0;34m.\u001b[0m\u001b[0mformat\u001b[0m\u001b[0;34m(\u001b[0m\u001b[0mval\u001b[0m\u001b[0;34m=\u001b[0m\u001b[0mlen\u001b[0m\u001b[0;34m(\u001b[0m\u001b[0mself\u001b[0m\u001b[0;34m.\u001b[0m\u001b[0mvalues\u001b[0m\u001b[0;34m)\u001b[0m\u001b[0;34m,\u001b[0m \u001b[0mmgr\u001b[0m\u001b[0;34m=\u001b[0m\u001b[0mlen\u001b[0m\u001b[0;34m(\u001b[0m\u001b[0mself\u001b[0m\u001b[0;34m.\u001b[0m\u001b[0mmgr_locs\u001b[0m\u001b[0;34m)\u001b[0m\u001b[0;34m)\u001b[0m\u001b[0;34m\u001b[0m\u001b[0m\n\u001b[0m\u001b[1;32m    129\u001b[0m             )\n",
      "\u001b[0;31mValueError\u001b[0m: Wrong number of items passed 5, placement implies 7",
      "\nDuring handling of the above exception, another exception occurred:\n",
      "\u001b[0;31mValueError\u001b[0m                                Traceback (most recent call last)",
      "\u001b[0;32m<ipython-input-237-b5635f1021cb>\u001b[0m in \u001b[0;36m<module>\u001b[0;34m()\u001b[0m\n\u001b[1;32m      1\u001b[0m df_cm = pd.DataFrame(cm, root_cause,\n\u001b[0;32m----> 2\u001b[0;31m                   root_cause)\n\u001b[0m\u001b[1;32m      3\u001b[0m \u001b[0;31m#plt.figure(figsize = (10,7))\u001b[0m\u001b[0;34m\u001b[0m\u001b[0;34m\u001b[0m\u001b[0m\n\u001b[1;32m      4\u001b[0m \u001b[0msn\u001b[0m\u001b[0;34m.\u001b[0m\u001b[0mset\u001b[0m\u001b[0;34m(\u001b[0m\u001b[0mfont_scale\u001b[0m\u001b[0;34m=\u001b[0m\u001b[0;36m1.4\u001b[0m\u001b[0;34m)\u001b[0m\u001b[0;31m#for label size\u001b[0m\u001b[0;34m\u001b[0m\u001b[0m\n\u001b[1;32m      5\u001b[0m \u001b[0msn\u001b[0m\u001b[0;34m.\u001b[0m\u001b[0mheatmap\u001b[0m\u001b[0;34m(\u001b[0m\u001b[0mdf_cm\u001b[0m\u001b[0;34m,\u001b[0m \u001b[0mannot\u001b[0m\u001b[0;34m=\u001b[0m\u001b[0;32mTrue\u001b[0m\u001b[0;34m,\u001b[0m\u001b[0mannot_kws\u001b[0m\u001b[0;34m=\u001b[0m\u001b[0;34m{\u001b[0m\u001b[0;34m\"size\"\u001b[0m\u001b[0;34m:\u001b[0m \u001b[0;36m16\u001b[0m\u001b[0;34m}\u001b[0m\u001b[0;34m,\u001b[0m \u001b[0mfmt\u001b[0m\u001b[0;34m=\u001b[0m\u001b[0;34m'd'\u001b[0m\u001b[0;34m)\u001b[0m\u001b[0;31m# font size\u001b[0m\u001b[0;34m\u001b[0m\u001b[0m\n",
      "\u001b[0;32m/anaconda3/envs/py36/lib/python3.6/site-packages/pandas/core/frame.py\u001b[0m in \u001b[0;36m__init__\u001b[0;34m(self, data, index, columns, dtype, copy)\u001b[0m\n\u001b[1;32m    437\u001b[0m                 \u001b[0mmgr\u001b[0m \u001b[0;34m=\u001b[0m \u001b[0minit_dict\u001b[0m\u001b[0;34m(\u001b[0m\u001b[0;34m{\u001b[0m\u001b[0mdata\u001b[0m\u001b[0;34m.\u001b[0m\u001b[0mname\u001b[0m\u001b[0;34m:\u001b[0m \u001b[0mdata\u001b[0m\u001b[0;34m}\u001b[0m\u001b[0;34m,\u001b[0m \u001b[0mindex\u001b[0m\u001b[0;34m,\u001b[0m \u001b[0mcolumns\u001b[0m\u001b[0;34m,\u001b[0m \u001b[0mdtype\u001b[0m\u001b[0;34m=\u001b[0m\u001b[0mdtype\u001b[0m\u001b[0;34m)\u001b[0m\u001b[0;34m\u001b[0m\u001b[0m\n\u001b[1;32m    438\u001b[0m             \u001b[0;32melse\u001b[0m\u001b[0;34m:\u001b[0m\u001b[0;34m\u001b[0m\u001b[0m\n\u001b[0;32m--> 439\u001b[0;31m                 \u001b[0mmgr\u001b[0m \u001b[0;34m=\u001b[0m \u001b[0minit_ndarray\u001b[0m\u001b[0;34m(\u001b[0m\u001b[0mdata\u001b[0m\u001b[0;34m,\u001b[0m \u001b[0mindex\u001b[0m\u001b[0;34m,\u001b[0m \u001b[0mcolumns\u001b[0m\u001b[0;34m,\u001b[0m \u001b[0mdtype\u001b[0m\u001b[0;34m=\u001b[0m\u001b[0mdtype\u001b[0m\u001b[0;34m,\u001b[0m \u001b[0mcopy\u001b[0m\u001b[0;34m=\u001b[0m\u001b[0mcopy\u001b[0m\u001b[0;34m)\u001b[0m\u001b[0;34m\u001b[0m\u001b[0m\n\u001b[0m\u001b[1;32m    440\u001b[0m \u001b[0;34m\u001b[0m\u001b[0m\n\u001b[1;32m    441\u001b[0m         \u001b[0;31m# For data is list-like, or Iterable (will consume into list)\u001b[0m\u001b[0;34m\u001b[0m\u001b[0;34m\u001b[0m\u001b[0m\n",
      "\u001b[0;32m/anaconda3/envs/py36/lib/python3.6/site-packages/pandas/core/internals/construction.py\u001b[0m in \u001b[0;36minit_ndarray\u001b[0;34m(values, index, columns, dtype, copy)\u001b[0m\n\u001b[1;32m    211\u001b[0m         \u001b[0mblock_values\u001b[0m \u001b[0;34m=\u001b[0m \u001b[0;34m[\u001b[0m\u001b[0mvalues\u001b[0m\u001b[0;34m]\u001b[0m\u001b[0;34m\u001b[0m\u001b[0m\n\u001b[1;32m    212\u001b[0m \u001b[0;34m\u001b[0m\u001b[0m\n\u001b[0;32m--> 213\u001b[0;31m     \u001b[0;32mreturn\u001b[0m \u001b[0mcreate_block_manager_from_blocks\u001b[0m\u001b[0;34m(\u001b[0m\u001b[0mblock_values\u001b[0m\u001b[0;34m,\u001b[0m \u001b[0;34m[\u001b[0m\u001b[0mcolumns\u001b[0m\u001b[0;34m,\u001b[0m \u001b[0mindex\u001b[0m\u001b[0;34m]\u001b[0m\u001b[0;34m)\u001b[0m\u001b[0;34m\u001b[0m\u001b[0m\n\u001b[0m\u001b[1;32m    214\u001b[0m \u001b[0;34m\u001b[0m\u001b[0m\n\u001b[1;32m    215\u001b[0m \u001b[0;34m\u001b[0m\u001b[0m\n",
      "\u001b[0;32m/anaconda3/envs/py36/lib/python3.6/site-packages/pandas/core/internals/managers.py\u001b[0m in \u001b[0;36mcreate_block_manager_from_blocks\u001b[0;34m(blocks, axes)\u001b[0m\n\u001b[1;32m   1685\u001b[0m         \u001b[0mblocks\u001b[0m \u001b[0;34m=\u001b[0m \u001b[0;34m[\u001b[0m\u001b[0mgetattr\u001b[0m\u001b[0;34m(\u001b[0m\u001b[0mb\u001b[0m\u001b[0;34m,\u001b[0m \u001b[0;34m\"values\"\u001b[0m\u001b[0;34m,\u001b[0m \u001b[0mb\u001b[0m\u001b[0;34m)\u001b[0m \u001b[0;32mfor\u001b[0m \u001b[0mb\u001b[0m \u001b[0;32min\u001b[0m \u001b[0mblocks\u001b[0m\u001b[0;34m]\u001b[0m\u001b[0;34m\u001b[0m\u001b[0m\n\u001b[1;32m   1686\u001b[0m         \u001b[0mtot_items\u001b[0m \u001b[0;34m=\u001b[0m \u001b[0msum\u001b[0m\u001b[0;34m(\u001b[0m\u001b[0mb\u001b[0m\u001b[0;34m.\u001b[0m\u001b[0mshape\u001b[0m\u001b[0;34m[\u001b[0m\u001b[0;36m0\u001b[0m\u001b[0;34m]\u001b[0m \u001b[0;32mfor\u001b[0m \u001b[0mb\u001b[0m \u001b[0;32min\u001b[0m \u001b[0mblocks\u001b[0m\u001b[0;34m)\u001b[0m\u001b[0;34m\u001b[0m\u001b[0m\n\u001b[0;32m-> 1687\u001b[0;31m         \u001b[0mconstruction_error\u001b[0m\u001b[0;34m(\u001b[0m\u001b[0mtot_items\u001b[0m\u001b[0;34m,\u001b[0m \u001b[0mblocks\u001b[0m\u001b[0;34m[\u001b[0m\u001b[0;36m0\u001b[0m\u001b[0;34m]\u001b[0m\u001b[0;34m.\u001b[0m\u001b[0mshape\u001b[0m\u001b[0;34m[\u001b[0m\u001b[0;36m1\u001b[0m\u001b[0;34m:\u001b[0m\u001b[0;34m]\u001b[0m\u001b[0;34m,\u001b[0m \u001b[0maxes\u001b[0m\u001b[0;34m,\u001b[0m \u001b[0me\u001b[0m\u001b[0;34m)\u001b[0m\u001b[0;34m\u001b[0m\u001b[0m\n\u001b[0m\u001b[1;32m   1688\u001b[0m \u001b[0;34m\u001b[0m\u001b[0m\n\u001b[1;32m   1689\u001b[0m \u001b[0;34m\u001b[0m\u001b[0m\n",
      "\u001b[0;32m/anaconda3/envs/py36/lib/python3.6/site-packages/pandas/core/internals/managers.py\u001b[0m in \u001b[0;36mconstruction_error\u001b[0;34m(tot_items, block_shape, axes, e)\u001b[0m\n\u001b[1;32m   1716\u001b[0m         \u001b[0;32mraise\u001b[0m \u001b[0mValueError\u001b[0m\u001b[0;34m(\u001b[0m\u001b[0;34m\"Empty data passed with indices specified.\"\u001b[0m\u001b[0;34m)\u001b[0m\u001b[0;34m\u001b[0m\u001b[0m\n\u001b[1;32m   1717\u001b[0m     raise ValueError(\n\u001b[0;32m-> 1718\u001b[0;31m         \u001b[0;34m\"Shape of passed values is {0}, indices imply {1}\"\u001b[0m\u001b[0;34m.\u001b[0m\u001b[0mformat\u001b[0m\u001b[0;34m(\u001b[0m\u001b[0mpassed\u001b[0m\u001b[0;34m,\u001b[0m \u001b[0mimplied\u001b[0m\u001b[0;34m)\u001b[0m\u001b[0;34m\u001b[0m\u001b[0m\n\u001b[0m\u001b[1;32m   1719\u001b[0m     )\n\u001b[1;32m   1720\u001b[0m \u001b[0;34m\u001b[0m\u001b[0m\n",
      "\u001b[0;31mValueError\u001b[0m: Shape of passed values is (5, 5), indices imply (7, 7)"
     ]
    }
   ],
   "source": [
    "df_cm = pd.DataFrame(cm, root_cause,\n",
    "                  root_cause)\n",
    "#plt.figure(figsize = (10,7))\n",
    "sn.set(font_scale=1.4)#for label size\n",
    "sn.heatmap(df_cm, annot=True,annot_kws={\"size\": 16}, fmt='d')# font size\n",
    "plt.show()"
   ]
  },
  {
   "cell_type": "code",
   "execution_count": null,
   "metadata": {},
   "outputs": [],
   "source": [
    "tpm_res = q2[[issue_col, target_col]]\n",
    "tpm_res['pred'] = y_pred\n",
    "tpm_res['mask'] = tpm_res[target_col] == tpm_res['pred']"
   ]
  },
  {
   "cell_type": "code",
   "execution_count": null,
   "metadata": {
    "collapsed": true
   },
   "outputs": [],
   "source": [
    "tpm_bad = tpm_res[tpm_res['mask']==False]"
   ]
  },
  {
   "cell_type": "code",
   "execution_count": null,
   "metadata": {},
   "outputs": [],
   "source": [
    "tpm_bad"
   ]
  },
  {
   "cell_type": "code",
   "execution_count": 179,
   "metadata": {},
   "outputs": [
    {
     "data": {
      "text/plain": [
       "'Amazon Connect is a cloud-based service that is used by Retail Bank, Card, and Financial Services to support certain contact centers and telephony services (e.g., call routing, recording, and retention). Management is continuing to evaluate the service as part of the enterprise service adoption process (i.e., Service Adoption Framework) and develop requisite controls, guidelines, and associated monitoring. As such, Amazon Connect was implemented by these lines of business in accordance with the enterprise exception approval process that requires an assessment of risk, implementation of compensating controls, and stakeholder approvals. However, opportunities were identified to further enhance governance associated with Amazon Connect and reduce risk associated with use of the service. Specifically, cen tralized controls and corresponding monitoring are not yet established, a nd the exception process did not contemplate measuring risk associated with service use , which impacts the comprehensiveness of th e enterprise cloud risk metrics . Additionally, the exceptions that Card and Retail Bank initially obtained for service use have subsequently expired, and lines of business have not consistently implemented Amazon Connect controls that could result in impacts to data confidentiality, integrity, and availability . For example, the Retail Bank service was not architected to operate in the segment of the environment designed for systems that process sensitive data , and lines of business are not consistently monitoring privileged user activity on the platform as required by the Information Security Standard . The associated risk is partially reduced as certain security features are enabled by default for Amazon Connect (e.g., retention of immutable user activity logs, encryption of data in transit), and the Amazon Connect instances operate in an isolated account not shared with other services. Additionally, data is stored at rest in encrypted S3 buckets in files and are not easily searchable by design (i.e., audio files).'"
      ]
     },
     "execution_count": 179,
     "metadata": {},
     "output_type": "execute_result"
    }
   ],
   "source": [
    "tpm_bad.iloc[2][issue_col]"
   ]
  },
  {
   "cell_type": "code",
   "execution_count": null,
   "metadata": {
    "collapsed": true
   },
   "outputs": [],
   "source": [
    "issue_col = 'issue'\n",
    "target_col = 'tpm_impact'\n",
    "filepath = '../data/all_issue_trending_2019_q2.csv'\n",
    "df = util.load_csv(filepath)\n",
    "df = util.preprocess_target(df, target_col)\n",
    "q2 = df[df['report_issuance_quarter'] == '4/1/19']\n",
    "preq2 = df[df['report_issuance_quarter'] != '4/1/19']\n"
   ]
  },
  {
   "cell_type": "code",
   "execution_count": 152,
   "metadata": {},
   "outputs": [
    {
     "name": "stderr",
     "output_type": "stream",
     "text": [
      "/anaconda3/envs/py36/lib/python3.6/site-packages/ipykernel_launcher.py:2: SettingWithCopyWarning: \n",
      "A value is trying to be set on a copy of a slice from a DataFrame.\n",
      "Try using .loc[row_indexer,col_indexer] = value instead\n",
      "\n",
      "See the caveats in the documentation: http://pandas.pydata.org/pandas-docs/stable/user_guide/indexing.html#returning-a-view-versus-a-copy\n",
      "  \n",
      "/anaconda3/envs/py36/lib/python3.6/site-packages/ipykernel_launcher.py:3: SettingWithCopyWarning: \n",
      "A value is trying to be set on a copy of a slice from a DataFrame.\n",
      "Try using .loc[row_indexer,col_indexer] = value instead\n",
      "\n",
      "See the caveats in the documentation: http://pandas.pydata.org/pandas-docs/stable/user_guide/indexing.html#returning-a-view-versus-a-copy\n",
      "  This is separate from the ipykernel package so we can avoid doing imports until\n"
     ]
    }
   ],
   "source": [
    "tpm_res = q2[[issue_col, target_col]]\n",
    "tpm_res['pred'] = y_pred\n",
    "tpm_res['mask'] = tpm_res[target_col] == tpm_res['pred']"
   ]
  },
  {
   "cell_type": "code",
   "execution_count": 155,
   "metadata": {},
   "outputs": [],
   "source": [
    "bad_tpm = tpm_res[tpm_res['mask']==False]"
   ]
  },
  {
   "cell_type": "code",
   "execution_count": 160,
   "metadata": {},
   "outputs": [
    {
     "data": {
      "text/html": [
       "<div>\n",
       "<style scoped>\n",
       "    .dataframe tbody tr th:only-of-type {\n",
       "        vertical-align: middle;\n",
       "    }\n",
       "\n",
       "    .dataframe tbody tr th {\n",
       "        vertical-align: top;\n",
       "    }\n",
       "\n",
       "    .dataframe thead th {\n",
       "        text-align: right;\n",
       "    }\n",
       "</style>\n",
       "<table border=\"1\" class=\"dataframe\">\n",
       "  <thead>\n",
       "    <tr style=\"text-align: right;\">\n",
       "      <th></th>\n",
       "      <th>issue</th>\n",
       "      <th>it_horizontal_impact</th>\n",
       "      <th>pred</th>\n",
       "      <th>mask</th>\n",
       "    </tr>\n",
       "  </thead>\n",
       "  <tbody>\n",
       "    <tr>\n",
       "      <th>2541</th>\n",
       "      <td>The Enterprise Brand organization is responsib...</td>\n",
       "      <td>1</td>\n",
       "      <td>0</td>\n",
       "      <td>False</td>\n",
       "    </tr>\n",
       "    <tr>\n",
       "      <th>2574</th>\n",
       "      <td>The AuthDecisioning and AuthControl applicatio...</td>\n",
       "      <td>0</td>\n",
       "      <td>1</td>\n",
       "      <td>False</td>\n",
       "    </tr>\n",
       "    <tr>\n",
       "      <th>2580</th>\n",
       "      <td>Condition – The Data Analytics (DA) team uses ...</td>\n",
       "      <td>1</td>\n",
       "      <td>0</td>\n",
       "      <td>False</td>\n",
       "    </tr>\n",
       "    <tr>\n",
       "      <th>2637</th>\n",
       "      <td>Capital One is required to capitalize certain ...</td>\n",
       "      <td>1</td>\n",
       "      <td>0</td>\n",
       "      <td>False</td>\n",
       "    </tr>\n",
       "    <tr>\n",
       "      <th>2651</th>\n",
       "      <td>TSYS control program documentation maintenance...</td>\n",
       "      <td>1</td>\n",
       "      <td>0</td>\n",
       "      <td>False</td>\n",
       "    </tr>\n",
       "    <tr>\n",
       "      <th>2652</th>\n",
       "      <td>Fiserv is a Tier 1 vendor that hosts and provi...</td>\n",
       "      <td>1</td>\n",
       "      <td>0</td>\n",
       "      <td>False</td>\n",
       "    </tr>\n",
       "    <tr>\n",
       "      <th>2658</th>\n",
       "      <td>In accordance with their role to manage enterp...</td>\n",
       "      <td>0</td>\n",
       "      <td>1</td>\n",
       "      <td>False</td>\n",
       "    </tr>\n",
       "    <tr>\n",
       "      <th>2659</th>\n",
       "      <td>Delivery Experience platforms that facilitate ...</td>\n",
       "      <td>0</td>\n",
       "      <td>1</td>\n",
       "      <td>False</td>\n",
       "    </tr>\n",
       "    <tr>\n",
       "      <th>2660</th>\n",
       "      <td>Business Continuity Plans (BCPs) have been def...</td>\n",
       "      <td>0</td>\n",
       "      <td>1</td>\n",
       "      <td>False</td>\n",
       "    </tr>\n",
       "    <tr>\n",
       "      <th>2661</th>\n",
       "      <td>The Delivery Experience team established the S...</td>\n",
       "      <td>0</td>\n",
       "      <td>1</td>\n",
       "      <td>False</td>\n",
       "    </tr>\n",
       "    <tr>\n",
       "      <th>2662</th>\n",
       "      <td>In support of protecting Capital One’s technol...</td>\n",
       "      <td>0</td>\n",
       "      <td>1</td>\n",
       "      <td>False</td>\n",
       "    </tr>\n",
       "  </tbody>\n",
       "</table>\n",
       "</div>"
      ],
      "text/plain": [
       "                                                  issue  it_horizontal_impact  \\\n",
       "2541  The Enterprise Brand organization is responsib...                     1   \n",
       "2574  The AuthDecisioning and AuthControl applicatio...                     0   \n",
       "2580  Condition – The Data Analytics (DA) team uses ...                     1   \n",
       "2637  Capital One is required to capitalize certain ...                     1   \n",
       "2651  TSYS control program documentation maintenance...                     1   \n",
       "2652  Fiserv is a Tier 1 vendor that hosts and provi...                     1   \n",
       "2658  In accordance with their role to manage enterp...                     0   \n",
       "2659  Delivery Experience platforms that facilitate ...                     0   \n",
       "2660  Business Continuity Plans (BCPs) have been def...                     0   \n",
       "2661  The Delivery Experience team established the S...                     0   \n",
       "2662  In support of protecting Capital One’s technol...                     0   \n",
       "\n",
       "      pred   mask  \n",
       "2541     0  False  \n",
       "2574     1  False  \n",
       "2580     0  False  \n",
       "2637     0  False  \n",
       "2651     0  False  \n",
       "2652     0  False  \n",
       "2658     1  False  \n",
       "2659     1  False  \n",
       "2660     1  False  \n",
       "2661     1  False  \n",
       "2662     1  False  "
      ]
     },
     "execution_count": 160,
     "metadata": {},
     "output_type": "execute_result"
    }
   ],
   "source": [
    "bad_tpm"
   ]
  },
  {
   "cell_type": "code",
   "execution_count": null,
   "metadata": {
    "collapsed": true
   },
   "outputs": [],
   "source": []
  },
  {
   "cell_type": "code",
   "execution_count": null,
   "metadata": {
    "collapsed": true
   },
   "outputs": [],
   "source": []
  },
  {
   "cell_type": "code",
   "execution_count": null,
   "metadata": {
    "collapsed": true
   },
   "outputs": [],
   "source": []
  },
  {
   "cell_type": "code",
   "execution_count": 162,
   "metadata": {},
   "outputs": [
    {
     "data": {
      "text/plain": [
       "'The Enterprise Brand organization is responsible for setting brand policy and corresponding standards for use across the enterprise. Specifically, these standards provide requirements for marketing and advertising, promotions, sponsorships, corporate ticketing, and social media use. Management has established a control framework to govern brand related risk, which includes Brand associates embedded in the lines of business to assist with brand related activities. For example, Brand coordinates the development and execution of sponsorships opportunities across the lines of business to ensure strategic alignment and management of brand risks. However, management’s policy monitoring processes require enhancement. Specifically, policy monitoring processes are primarily focused on enterprise level activities managed by the Brand and Social teams, and do not formally include those executed within the lines of business. For example, Brand does not formally validate local sponsorships that lines of business may execute beyond Brand’s involvement, which might deviate from Capital One’s brand strategy. \\xa0 Further, Management recently migrated to a new corporate ticketing system (i.e., Ticket Asset Management) that provides functionality for users to request corporate tickets, gain approvals from designated ticket coordinators, and perform post event attestations detailing event attendees within 10 days after the event . However, formal reporting to monitor the se activities has not yet been implemented . As a result, Brand did not timely identify 608 (26%) of 2,335 corporate ticket orders during the audit period for which a timely attestation detailing the attendees after the event date was not submitted, and of those, 24 (1%) were never submitted. \\xa0 The lack of formal policy compliance monitoring of the enterprise increases the risk that inappropriate activities are not timely identified. Such activities could result in decrease d brand identity and reputation , as well as potential regulatory infractions . The risk is partially reduced as Audit testing determined the 24 ticket orders to have appropriate usage. Additionally, testing did not identify any deviations in marketing, advertising, promotions, sponsorships, or social media processes.'"
      ]
     },
     "execution_count": 162,
     "metadata": {},
     "output_type": "execute_result"
    }
   ],
   "source": [
    "bad_tpm.iloc[0]['issue']"
