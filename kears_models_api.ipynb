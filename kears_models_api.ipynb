{
 "cells": [
  {
   "cell_type": "markdown",
   "metadata": {},
   "source": [
    "# Keras ( Sequential vs Functional)"
   ]
  },
  {
   "cell_type": "markdown",
   "metadata": {},
   "source": [
    "There are two ways to create Keras model such as sequential and functional."
   ]
  },
  {
   "cell_type": "code",
   "execution_count": 1,
   "metadata": {},
   "outputs": [],
   "source": [
    "from sklearn import datasets\n",
    "iris = datasets.load_iris()\n",
    "X = iris.data\n",
    "y = iris.target"
   ]
  },
  {
   "cell_type": "code",
   "execution_count": 3,
   "metadata": {},
   "outputs": [
    {
     "data": {
      "text/plain": [
       "(150, 4)"
      ]
     },
     "execution_count": 3,
     "metadata": {},
     "output_type": "execute_result"
    }
   ],
   "source": [
    "X.shape # input dimension = 4"
   ]
  },
  {
   "cell_type": "code",
   "execution_count": 2,
   "metadata": {},
   "outputs": [
    {
     "name": "stderr",
     "output_type": "stream",
     "text": [
      "Using TensorFlow backend.\n"
     ]
    }
   ],
   "source": [
    "from keras.utils import to_categorical\n",
    "trainY = to_categorical(y)"
   ]
  },
  {
   "cell_type": "code",
   "execution_count": 12,
   "metadata": {},
   "outputs": [],
   "source": [
    "from keras.models import Sequential\n",
    "from keras.layers import Dense, Input\n",
    "\n",
    "def define_model():\n",
    "    model = Sequential()\n",
    "    model.add(Dense(50, input_dim=4, activation='relu'))\n",
    "    model.add(Dense(12, activation='relu'))\n",
    "    model.add(Dense(3, activation='softmax'))\n",
    "    model.compile(loss='categorical_crossentropy',optimizer='adam', metrics=['accuracy'])\n",
    "    return model"
   ]
  },
  {
   "cell_type": "code",
   "execution_count": 8,
   "metadata": {},
   "outputs": [
    {
     "name": "stdout",
     "output_type": "stream",
     "text": [
      "Epoch 1/30\n",
      "150/150 [==============================] - 1s 7ms/step - loss: 0.9526 - accuracy: 0.4467\n",
      "Epoch 2/30\n",
      "150/150 [==============================] - 0s 200us/step - loss: 0.8866 - accuracy: 0.6667\n",
      "Epoch 3/30\n",
      "150/150 [==============================] - 0s 147us/step - loss: 0.8353 - accuracy: 0.6800\n",
      "Epoch 4/30\n",
      "150/150 [==============================] - 0s 167us/step - loss: 0.7919 - accuracy: 0.6667\n",
      "Epoch 5/30\n",
      "150/150 [==============================] - 0s 167us/step - loss: 0.7475 - accuracy: 0.6667\n",
      "Epoch 6/30\n",
      "150/150 [==============================] - 0s 160us/step - loss: 0.7024 - accuracy: 0.6667\n",
      "Epoch 7/30\n",
      "150/150 [==============================] - 0s 180us/step - loss: 0.6626 - accuracy: 0.6667\n",
      "Epoch 8/30\n",
      "150/150 [==============================] - 0s 207us/step - loss: 0.6257 - accuracy: 0.6667\n",
      "Epoch 9/30\n",
      "150/150 [==============================] - 0s 227us/step - loss: 0.5913 - accuracy: 0.6733\n",
      "Epoch 10/30\n",
      "150/150 [==============================] - 0s 160us/step - loss: 0.5601 - accuracy: 0.7933\n",
      "Epoch 11/30\n",
      "150/150 [==============================] - 0s 186us/step - loss: 0.5317 - accuracy: 0.8133\n",
      "Epoch 12/30\n",
      "150/150 [==============================] - 0s 127us/step - loss: 0.5088 - accuracy: 0.8600\n",
      "Epoch 13/30\n",
      "150/150 [==============================] - 0s 167us/step - loss: 0.4910 - accuracy: 0.8800\n",
      "Epoch 14/30\n",
      "150/150 [==============================] - 0s 193us/step - loss: 0.4713 - accuracy: 0.7867\n",
      "Epoch 15/30\n",
      "150/150 [==============================] - 0s 200us/step - loss: 0.4552 - accuracy: 0.8267\n",
      "Epoch 16/30\n",
      "150/150 [==============================] - 0s 187us/step - loss: 0.4382 - accuracy: 0.9067\n",
      "Epoch 17/30\n",
      "150/150 [==============================] - 0s 187us/step - loss: 0.4275 - accuracy: 0.9600\n",
      "Epoch 18/30\n",
      "150/150 [==============================] - 0s 220us/step - loss: 0.4118 - accuracy: 0.9600\n",
      "Epoch 19/30\n",
      "150/150 [==============================] - 0s 200us/step - loss: 0.4003 - accuracy: 0.9267\n",
      "Epoch 20/30\n",
      "150/150 [==============================] - 0s 180us/step - loss: 0.3895 - accuracy: 0.9067\n",
      "Epoch 21/30\n",
      "150/150 [==============================] - 0s 207us/step - loss: 0.3772 - accuracy: 0.9600\n",
      "Epoch 22/30\n",
      "150/150 [==============================] - 0s 200us/step - loss: 0.3674 - accuracy: 0.9533\n",
      "Epoch 23/30\n",
      "150/150 [==============================] - 0s 167us/step - loss: 0.3549 - accuracy: 0.9667\n",
      "Epoch 24/30\n",
      "150/150 [==============================] - 0s 187us/step - loss: 0.3489 - accuracy: 0.9800\n",
      "Epoch 25/30\n",
      "150/150 [==============================] - 0s 187us/step - loss: 0.3377 - accuracy: 0.9600\n",
      "Epoch 26/30\n",
      "150/150 [==============================] - 0s 187us/step - loss: 0.3274 - accuracy: 0.9600\n",
      "Epoch 27/30\n",
      "150/150 [==============================] - 0s 180us/step - loss: 0.3193 - accuracy: 0.9667\n",
      "Epoch 28/30\n",
      "150/150 [==============================] - 0s 193us/step - loss: 0.3116 - accuracy: 0.9600\n",
      "Epoch 29/30\n",
      "150/150 [==============================] - 0s 187us/step - loss: 0.3009 - accuracy: 0.9733\n",
      "Epoch 30/30\n",
      "150/150 [==============================] - 0s 207us/step - loss: 0.2943 - accuracy: 0.9733\n"
     ]
    },
    {
     "data": {
      "text/plain": [
       "<keras.callbacks.callbacks.History at 0x10e40942d48>"
      ]
     },
     "execution_count": 8,
     "metadata": {},
     "output_type": "execute_result"
    }
   ],
   "source": [
    "model = define_model()\n",
    "model.fit(X, trainY, epochs=30, batch_size=20)"
   ]
  },
  {
   "cell_type": "code",
   "execution_count": 9,
   "metadata": {},
   "outputs": [
    {
     "name": "stdout",
     "output_type": "stream",
     "text": [
      "150/150 [==============================] - 0s 224us/step\n"
     ]
    },
    {
     "data": {
      "text/plain": [
       "[0.28548113028208416, 0.9733333587646484]"
      ]
     },
     "execution_count": 9,
     "metadata": {},
     "output_type": "execute_result"
    }
   ],
   "source": [
    "model.evaluate(X, trainY)"
   ]
  },
  {
   "cell_type": "markdown",
   "metadata": {},
   "source": [
    "# Functioanl Model\n",
    "\n",
    "It allows sharing layers and define multiple input and outputs to model.\n",
    "\n",
    "Unlike the sequential API, we need to define the standalone Input layer that specifies the shape of input data. we also need to define the model using Keras Model class which requires the input and output layers."
   ]
  },
  {
   "cell_type": "code",
   "execution_count": 14,
   "metadata": {},
   "outputs": [],
   "source": [
    "from keras.models import Model\n",
    "from keras.layers import Input, Dense\n",
    "\n",
    "def define_model_by_functional_api():\n",
    "    input1 = Input(shape=(4,)) # it was not in sequential \n",
    "    hidden1 = Dense(50, activation='relu')(input1)\n",
    "    hidden2 = Dense(12, activation='relu')(hidden1)\n",
    "    output = Dense(3, activation='softmax')(hidden2)\n",
    "    model = Model(inputs=input1, outputs=output) # Model function was not in sequential \n",
    "    model.compile(loss='categorical_crossentropy', optimizer='adam', metrics=['accuracy'])\n",
    "    return model"
   ]
  },
  {
   "cell_type": "code",
   "execution_count": 15,
   "metadata": {},
   "outputs": [
    {
     "name": "stdout",
     "output_type": "stream",
     "text": [
      "Epoch 1/30\n",
      "150/150 [==============================] - 0s 1ms/step - loss: 1.4660 - accuracy: 0.3333\n",
      "Epoch 2/30\n",
      "150/150 [==============================] - 0s 133us/step - loss: 1.2093 - accuracy: 0.3467\n",
      "Epoch 3/30\n",
      "150/150 [==============================] - 0s 127us/step - loss: 1.0608 - accuracy: 0.6600\n",
      "Epoch 4/30\n",
      "150/150 [==============================] - 0s 160us/step - loss: 0.9672 - accuracy: 0.6667\n",
      "Epoch 5/30\n",
      "150/150 [==============================] - 0s 160us/step - loss: 0.9200 - accuracy: 0.8133\n",
      "Epoch 6/30\n",
      "150/150 [==============================] - 0s 160us/step - loss: 0.8784 - accuracy: 0.7200\n",
      "Epoch 7/30\n",
      "150/150 [==============================] - 0s 167us/step - loss: 0.8446 - accuracy: 0.6800\n",
      "Epoch 8/30\n",
      "150/150 [==============================] - 0s 173us/step - loss: 0.8117 - accuracy: 0.6800\n",
      "Epoch 9/30\n",
      "150/150 [==============================] - 0s 180us/step - loss: 0.7803 - accuracy: 0.6867\n",
      "Epoch 10/30\n",
      "150/150 [==============================] - 0s 193us/step - loss: 0.7479 - accuracy: 0.7667\n",
      "Epoch 11/30\n",
      "150/150 [==============================] - 0s 200us/step - loss: 0.7176 - accuracy: 0.7867\n",
      "Epoch 12/30\n",
      "150/150 [==============================] - 0s 200us/step - loss: 0.6878 - accuracy: 0.8200\n",
      "Epoch 13/30\n",
      "150/150 [==============================] - 0s 167us/step - loss: 0.6597 - accuracy: 0.8800\n",
      "Epoch 14/30\n",
      "150/150 [==============================] - 0s 207us/step - loss: 0.6324 - accuracy: 0.8467\n",
      "Epoch 15/30\n",
      "150/150 [==============================] - 0s 187us/step - loss: 0.6083 - accuracy: 0.8400\n",
      "Epoch 16/30\n",
      "150/150 [==============================] - 0s 147us/step - loss: 0.5846 - accuracy: 0.8200\n",
      "Epoch 17/30\n",
      "150/150 [==============================] - 0s 193us/step - loss: 0.5643 - accuracy: 0.8000\n",
      "Epoch 18/30\n",
      "150/150 [==============================] - 0s 193us/step - loss: 0.5439 - accuracy: 0.8600\n",
      "Epoch 19/30\n",
      "150/150 [==============================] - 0s 200us/step - loss: 0.5258 - accuracy: 0.9133\n",
      "Epoch 20/30\n",
      "150/150 [==============================] - 0s 187us/step - loss: 0.5096 - accuracy: 0.9533\n",
      "Epoch 21/30\n",
      "150/150 [==============================] - 0s 187us/step - loss: 0.4953 - accuracy: 0.9000\n",
      "Epoch 22/30\n",
      "150/150 [==============================] - 0s 173us/step - loss: 0.4811 - accuracy: 0.9400\n",
      "Epoch 23/30\n",
      "150/150 [==============================] - 0s 180us/step - loss: 0.4654 - accuracy: 0.9533\n",
      "Epoch 24/30\n",
      "150/150 [==============================] - ETA: 0s - loss: 0.4102 - accuracy: 0.95 - 0s 167us/step - loss: 0.4556 - accuracy: 0.9000\n",
      "Epoch 25/30\n",
      "150/150 [==============================] - 0s 160us/step - loss: 0.4423 - accuracy: 0.9400\n",
      "Epoch 26/30\n",
      "150/150 [==============================] - 0s 167us/step - loss: 0.4300 - accuracy: 0.9533\n",
      "Epoch 27/30\n",
      "150/150 [==============================] - 0s 180us/step - loss: 0.4179 - accuracy: 0.9667\n",
      "Epoch 28/30\n",
      "150/150 [==============================] - 0s 207us/step - loss: 0.4079 - accuracy: 0.9600\n",
      "Epoch 29/30\n",
      "150/150 [==============================] - 0s 187us/step - loss: 0.4006 - accuracy: 0.9667\n",
      "Epoch 30/30\n",
      "150/150 [==============================] - 0s 193us/step - loss: 0.3894 - accuracy: 0.9667\n"
     ]
    },
    {
     "data": {
      "text/plain": [
       "<keras.callbacks.callbacks.History at 0x10e413425c8>"
      ]
     },
     "execution_count": 15,
     "metadata": {},
     "output_type": "execute_result"
    }
   ],
   "source": [
    "model = define_model_by_functional_api()\n",
    "model.fit(X, trainY, epochs=30, batch_size=20)"
   ]
  },
  {
   "cell_type": "code",
   "execution_count": 16,
   "metadata": {},
   "outputs": [
    {
     "name": "stdout",
     "output_type": "stream",
     "text": [
      "150/150 [==============================] - 0s 224us/step\n"
     ]
    },
    {
     "data": {
      "text/plain": [
       "[0.38132034222284955, 0.95333331823349]"
      ]
     },
     "execution_count": 16,
     "metadata": {},
     "output_type": "execute_result"
    }
   ],
   "source": [
    "model.evaluate(X, trainY)"
   ]
  },
  {
   "cell_type": "code",
   "execution_count": null,
   "metadata": {},
   "outputs": [],
   "source": []
  }
 ],
 "metadata": {
  "kernelspec": {
   "display_name": "Python 3",
   "language": "python",
   "name": "python3"
  },
  "language_info": {
   "codemirror_mode": {
    "name": "ipython",
    "version": 3
   },
   "file_extension": ".py",
   "mimetype": "text/x-python",
   "name": "python",
   "nbconvert_exporter": "python",
   "pygments_lexer": "ipython3",
   "version": "3.8.2"
  }
 },
 "nbformat": 4,
 "nbformat_minor": 4
}
