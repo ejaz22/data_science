{
 "cells": [
  {
   "cell_type": "markdown",
   "metadata": {},
   "source": [
    "# Classifiers hyperparameters"
   ]
  },
  {
   "cell_type": "markdown",
   "metadata": {},
   "source": [
    "## Logistics Regression"
   ]
  },
  {
   "cell_type": "code",
   "execution_count": 1,
   "metadata": {},
   "outputs": [],
   "source": [
    "seed = 42\n",
    "from sklearn.linear_model import LogisticRegression\n",
    "lr = LogisticRegression()\n",
    "\n",
    "# smaller C stronger regularization\n",
    "lr_params = {\n",
    "             'penalty':['l1', 'l2'],\n",
    "             'C': [0.001, 0.01, 0.1, 1, 10, 100, 1000]\n",
    "             }"
   ]
  },
  {
   "cell_type": "markdown",
   "metadata": {},
   "source": [
    "##  Support Vector Machines"
   ]
  },
  {
   "cell_type": "code",
   "execution_count": 2,
   "metadata": {},
   "outputs": [],
   "source": [
    "from sklearn.svm import SVC\n",
    "svc = SVC(gamma = 'auto')\n",
    "\n",
    "svc_params = {'C': [6, 7, 8, 9, 10, 11, 12], \n",
    "              'kernel': ['linear','rbf'],\n",
    "              'gamma': [0.5, 0.2, 0.1, 0.001, 0.0001]}"
   ]
  },
  {
   "cell_type": "markdown",
   "metadata": {},
   "source": [
    "## Decision Tree Classifier"
   ]
  },
  {
   "cell_type": "code",
   "execution_count": 3,
   "metadata": {},
   "outputs": [],
   "source": [
    "from sklearn.tree import DecisionTreeClassifier\n",
    "dt = DecisionTreeClassifier(random_state = seed)\n",
    "\n",
    "dt_params = {'max_features': ['auto', 'sqrt', 'log2'],\n",
    "             'min_samples_split': [2, 3, 4, 5, 6, 7, 8, 9, 10, 11, 12, 13, 14, 15], \n",
    "             'min_samples_leaf':[1, 2, 3, 4, 5, 6, 7, 8, 9, 10, 11],\n",
    "             'random_state':[seed]}"
   ]
  },
  {
   "cell_type": "markdown",
   "metadata": {},
   "source": [
    "## Random Forest Classifier"
   ]
  },
  {
   "cell_type": "code",
   "execution_count": 4,
   "metadata": {},
   "outputs": [],
   "source": [
    "from sklearn.ensemble import RandomForestClassifier\n",
    "rf = RandomForestClassifier(random_state = seed, n_estimators = 100)\n",
    "\n",
    "rf_params = {'criterion':['gini','entropy'],\n",
    "             'n_estimators':[10, 15, 20, 25, 30],\n",
    "             'min_samples_leaf':[1, 2, 3],\n",
    "             'min_samples_split':[3, 4, 5, 6, 7], \n",
    "             'max_features':['sqrt', 'auto', 'log2'],\n",
    "             'random_state':[44]}\n"
   ]
  },
  {
   "cell_type": "markdown",
   "metadata": {},
   "source": [
    "## K Nearest Neighbour"
   ]
  },
  {
   "cell_type": "code",
   "execution_count": 1,
   "metadata": {},
   "outputs": [],
   "source": [
    "from sklearn.neighbors import KNeighborsClassifier\n",
    "knn = KNeighborsClassifier()\n",
    "\n",
    "# the larger leaf_size, the closer neighbors the algorithm picks, true for ball_tree and kd_tree only\n",
    "# choose neighbours in odd numbers so that they don't tie\n",
    "\n",
    "knn_params = {'n_neighbors':[3, 4, 5, 6, 7, 8],\n",
    "              'leaf_size':[1, 2, 3, 5],\n",
    "              'weights':['uniform', 'distance'],\n",
    "              'algorithm':['auto', 'ball_tree','kd_tree','brute']}"
   ]
  },
  {
   "cell_type": "markdown",
   "metadata": {},
   "source": [
    "## Gaussian Naive Bayes"
   ]
  },
  {
   "cell_type": "code",
   "execution_count": 6,
   "metadata": {},
   "outputs": [],
   "source": [
    "from sklearn.naive_bayes import GaussianNB\n",
    "gnb = GaussianNB()"
   ]
  },
  {
   "cell_type": "markdown",
   "metadata": {},
   "source": [
    "## Gradient Boosting Classifier"
   ]
  },
  {
   "cell_type": "code",
   "execution_count": 7,
   "metadata": {},
   "outputs": [],
   "source": [
    "from sklearn.ensemble import GradientBoostingClassifier\n",
    "gbc = GradientBoostingClassifier(random_state = seed)\n",
    "\n",
    "gbc_params = {'learning_rate': [0.01, 0.02, 0.05, 0.01],\n",
    "              'max_depth': [4, 6, 8],\n",
    "              'max_features': [1.0, 0.3, 0.1], \n",
    "              'min_samples_split': [ 2, 3, 4],\n",
    "              'random_state':[seed]}\n"
   ]
  },
  {
   "cell_type": "markdown",
   "metadata": {},
   "source": [
    "## Adaboost Classifier"
   ]
  },
  {
   "cell_type": "code",
   "execution_count": 8,
   "metadata": {},
   "outputs": [],
   "source": [
    "from sklearn.ensemble import AdaBoostClassifier\n",
    "abc = AdaBoostClassifier(random_state = seed)\n",
    "\n",
    "abc_params = {'n_estimators':[1, 5, 10, 15, 20, 25, 40, 50, 60, 80, 100, 130, 160, 200, 250, 300],\n",
    "              'learning_rate':[0.0001, 0.001, 0.01, 0.1, 0.2, 0.3,1.5],\n",
    "              'random_state':[seed]}"
   ]
  },
  {
   "cell_type": "markdown",
   "metadata": {},
   "source": [
    "## ExtraTrees Classifier"
   ]
  },
  {
   "cell_type": "code",
   "execution_count": 9,
   "metadata": {},
   "outputs": [],
   "source": [
    "from sklearn.ensemble import ExtraTreesClassifier\n",
    "etc = ExtraTreesClassifier(random_state = seed)\n",
    "\n",
    "etc_params = {'max_depth':[None],\n",
    "              'max_features':[1, 3, 10],\n",
    "              'min_samples_split':[2, 3, 10],\n",
    "              'min_samples_leaf':[1, 3, 10],\n",
    "              'bootstrap':[False],\n",
    "              'n_estimators':[100, 300],\n",
    "              'criterion':[\"gini\"], \n",
    "              'random_state':[seed]}"
   ]
  },
  {
   "cell_type": "markdown",
   "metadata": {},
   "source": [
    "## Extreme Gradient Boosting"
   ]
  },
  {
   "cell_type": "code",
   "execution_count": null,
   "metadata": {},
   "outputs": [],
   "source": [
    "from xgboost import XGBClassifier\n",
    "xgbc = XGBClassifier(random_state = seed)\n",
    "\n",
    "xgbc_params = {'n_estimators': (150, 250, 350,450,550,650, 700, 800, 850, 1000),\n",
    "              'learning_rate': (0.01, 0.6),\n",
    "              'subsample': (0.3, 0.9),\n",
    "              'max_depth': [3, 4, 5, 6, 7, 8, 9],\n",
    "              'colsample_bytree': (0.5, 0.9),\n",
    "              'min_child_weight': [1, 2, 3, 4],\n",
    "              'random_state':[seed]}"
   ]
  },
  {
   "cell_type": "code",
   "execution_count": null,
   "metadata": {},
   "outputs": [],
   "source": []
  }
 ],
 "metadata": {
  "kernelspec": {
   "display_name": "Python 3",
   "language": "python",
   "name": "python3"
  },
  "language_info": {
   "codemirror_mode": {
    "name": "ipython",
    "version": 3
   },
   "file_extension": ".py",
   "mimetype": "text/x-python",
   "name": "python",
   "nbconvert_exporter": "python",
   "pygments_lexer": "ipython3",
   "version": "3.8.2"
  }
 },
 "nbformat": 4,
 "nbformat_minor": 4
}
