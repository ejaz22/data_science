{
 "cells": [
  {
   "cell_type": "markdown",
   "metadata": {},
   "source": [
    "## Tableau"
   ]
  },
  {
   "cell_type": "markdown",
   "metadata": {},
   "source": [
    "In Tableau, when you bring dimensions and measure to the view, the measures are aggregated by whatever dimensions is on the view"
   ]
  },
  {
   "cell_type": "markdown",
   "metadata": {},
   "source": [
    "__Level of detail expressions__ (LOD Expressions or LOD Calculations) can compute different level of aggregation and are useful for use cases, such as\n",
    "\n",
    "- Cohort analysis – comparing data for different subgroups\n",
    "- Totals or averages across segments\n",
    "- Aggregates of aggregates (or double agrregation)\n",
    "- Binning aggregates\n",
    "\n",
    "we have three types of LOD's “INCLUDE” - more granular, “EXCLUDE”- less granular and “FIXED” - independent level.\n",
    "The LOD expression syntax is given below,\n",
    "```tableau\n",
    "{[FIXED | INCLUDE | EXCLUDE] <dimension declaration > : <aggregate expression>}\n",
    "```\n",
    "FIXED LOD type calculation only considers user-specified dimensions.\n",
    "e.g. Total Sales by Region  \n",
    "\n",
    "```tableau\n",
    "{FIXED[Region]:SUM([Sales])}\n",
    "```\n"
   ]
  },
  {
   "cell_type": "markdown",
   "metadata": {},
   "source": [
    "__Chart__\n",
    "- a chart show distribution, relationship, composition, or comparison of your data\n",
    "- A Gantt chart is a valuable graphical device, which demonstrates tasks or activities performed against time\n",
    "\n",
    "Granularity and aggregation work opposite of each other.\n",
    "\n",
    "__Context Filter__\n",
    "Context Filter helps to pass the criteria of the filter from one level to other related level. eg. Top 10 Customers in country by their purchases, here the context is 'Top 10'. We can pass this context to know 'Top 10' Customers by Purchases in a State within the same country.\n",
    "\n",
    "__Global Filter__\n",
    "Global filters can be utilized as a part of sheets, dashboards and in stories\n",
    "\n",
    "\n",
    "__SETS__\n",
    "Sets are custom fields that define a subset of data based on some conditions.\n",
    "\n",
    "\n",
    "__Hierarchies__\n",
    "Hierarchies come in handy when we want to group similar fields so that we can quickly drill down between levels in the viz.\n",
    "\n",
    "__Drop Line__\n",
    "show the position of a particular data point"
   ]
  },
  {
   "cell_type": "markdown",
   "metadata": {},
   "source": [
    " __DIMENSION, Measure and GROUPS__\n",
    " \n",
    "- a dimension is a field that has an assigned, dedicated value. These can be text fields, dates, and so on.\n",
    " \n",
    "- A group is a combination of dimension members that make higher-level categories. When a field is grouped, a new dimension node is created and replaces the orginal dimension in the view.\n",
    "\n",
    "- Measure is variable in the dataset  that is meant to be aggregated\n",
    "\n",
    "- Bins are buckets based on a range of values. \n",
    "\n",
    "- Groups and Sets are used for grouping dimension while bins are used for grouping measure. The created bin will be set in Dimension self."
   ]
  },
  {
   "cell_type": "markdown",
   "metadata": {},
   "source": [
    "__JOIN and BLEND__\n",
    "\n",
    "n situations where your data is located in a single location, you would always want to use Joins. However, if the data is scattered through multiple different locations, you would then most likely want to use Blending.\n",
    "\n",
    "The absolute maximum number of tables that can be joined together in Tableau is 32.\n",
    "Table size should also be restricted to 255 columns."
   ]
  },
  {
   "cell_type": "markdown",
   "metadata": {},
   "source": [
    "__Q What is the difference between .twb and .twbx extension?__\n",
    "\n",
    "twb is an XML document that contains all the selections and layout made you have made in your Tableau Workbook. It does not contain any data.\n",
    "A .twbx is a ‘zipped’ archive containing a .twb and any external files such as extracts and background images."
   ]
  },
  {
   "cell_type": "markdown",
   "metadata": {},
   "source": [
    "## Tableau Charts"
   ]
  },
  {
   "cell_type": "markdown",
   "metadata": {},
   "source": [
    "- Text Table (Crosstab)\tTo see your data in rows and columns.\n",
    "- Heat Map\tJust like Crosstab, but it uses size and color as visual cues to describe the data.\n",
    "- Highlight Table\tJust like Excel table, but the cells here are colored.\n",
    "- Symbol Map\tVisualize and highlight geographical data.\n",
    "- Filled Map\tColor filled geographical data visualization.\n",
    "- Pie Chart\tRepresents data as slices of a circle with different sizes and colors.\n",
    "- Horizontal Bar Chart\tRepresents data in horizontal bars, visually digestible.\n",
    "- Stacked Bar Chart\tVisualize data of a category having sub-categories.\n",
    "- Side-by-Side Bar Chart\tSide by side comparison of data, vertical representation.\n",
    "- Treemap\tSimilar to a heat map, but the boxes are grouped by items that are close in hierarchy.\n",
    "- Circle View\tShows the different values that are within the categories.\n",
    "- Side-by-Side Circle View fields)\tCombination of Circle view and Side-by-Side Bar Chart\n",
    "- Line Chart (Continuous)\tSeveral number of lines in the view to show continuous flow of data, must have a date.\n",
    "- Line Chart (Discrete)\tThis allows slicing and dicing of the graph, graph not continuous.\n",
    "- Dual Line Chart\tComparing two measures over a period.\n",
    "- Scatter Plot\tScatter plot shows many points scattered in the Cartesian plane\n",
    "- Histogram\tA histogram represents the frequencies of values of a variable bucketed into ranges\n",
    "- Gantt Chart\tIt illustrates a project schedule.\n",
    "- Bullet Graph\tTwo bars drawn upon one another to indicate their individual values at the same position in the graph\n",
    "- Waterfall Chart\tIt shows where a value starts, ends and how it gets there incrementally"
   ]
  },
  {
   "cell_type": "code",
   "execution_count": null,
   "metadata": {},
   "outputs": [],
   "source": []
  },
  {
   "cell_type": "code",
   "execution_count": null,
   "metadata": {},
   "outputs": [],
   "source": []
  }
 ],
 "metadata": {
  "kernelspec": {
   "display_name": "Python 3",
   "language": "python",
   "name": "python3"
  },
  "language_info": {
   "codemirror_mode": {
    "name": "ipython",
    "version": 3
   },
   "file_extension": ".py",
   "mimetype": "text/x-python",
   "name": "python",
   "nbconvert_exporter": "python",
   "pygments_lexer": "ipython3",
   "version": "3.7.3"
  }
 },
 "nbformat": 4,
 "nbformat_minor": 2
}

