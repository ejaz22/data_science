{
 "cells": [
  {
   "cell_type": "markdown",
   "metadata": {},
   "source": [
    "__SQL Quick Notes__\n",
    "\n",
    "- SQL is a command langualge\n",
    "- SQL is a declarative language.\n",
    "- Top SQL DB's are  --> MS SQL Server, MySQL, Oracle, DB2\n",
    "- CRUD oepration : Create, Read, Update and Delete\n",
    "- Primary Key and Unique Key are Entity integrity constraints\n",
    "- Aliases : It is a temporary name assigned to the table or column for the purpose of a particular SQL query.\n",
    "- VIEW :  a virtual table based on the result-set of an SQL statement. \n",
    "- 7 constraints: primary key, foreign key, not_null, default, index, unique and check\n",
    "- 3 indexes : clustered, non-clustered and unique\n",
    "- 2 variables : local and global\n",
    "- 2 levels of constraints : column level and table level\n",
    "- enum value - its a custom data type (set of values that is acceptable) in that field\n",
    "- Oracle NVL() do the same thing as COALESCE() does.\n",
    "\n",
    "__Optimiztion Principle__\n",
    "\n",
    "- Avoid using 'Like' queries where possible try to get the value using an equality first\n",
    "- Don't use functions in the where clause. Because the query engine must execute the function for every single row.\n",
    "\n",
    "__TO RESOLVE__\n",
    "\n",
    "- Windows functions and their practical use (partition by)\n",
    "- use of DISTINCT w.r.t functions\n",
    "- Triggers\n",
    "- What is a database cursor?\n",
    "- What is a database transaction? A database lock?\n",
    "- How do you use the NULLIF function?\n",
    "- What is the difference between the RANK() and the DENSE_RANK() functions?\n",
    "- What is a key? A candidate key? A primary key? An alternate key? A foreign key?\n",
    "- What are the data types available and when to use which ones?\n",
    "- JOINs, ANSI-89 and ANSI-92 syntax\n",
    "- NULL handling: COALESCE & Native NULL handling\n",
    "- Subqueries: IN, EXISTS, and inline views\n",
    "- Subqueries: Correlated\n",
    "- WITH syntax: Subquery Factoring/CTE\n",
    "- Discuss NULL values and related issues.\n",
    "- ISNULL/COALESCE for calculation purposes"
   ]
  },
  {
   "cell_type": "markdown",
   "metadata": {},
   "source": [
    "##  SQL Joins\n",
    "\n",
    "American National Standards Institute (ANSI) SQL specifies 5 types of join clauses\n",
    "\n",
    "1. INNER JOIN\n",
    "2. LEFT JOIN (LEFT OUTER JOIN)\n",
    "3. RIGHT JOIN (RIGHT OUTER JOIN)\n",
    "4. FULL JOIN (FULL OUTER JOIN or effect of both LEFT JOIN and RIGHT JOIN)\n",
    "5. CROSS JOIN"
   ]
  },
  {
   "cell_type": "markdown",
   "metadata": {},
   "source": [
    "### Difference between SQL row_number(), rank() and dense_rank() functions\n",
    "\n",
    "ROW_NUMBER(): generates a new row number for every row, regardless of duplicates within a partition.\n",
    "\n",
    "RANK(): This one generates a new row number for every distinct row, leaving gaps between groups of duplicates within a partition.\n",
    "\n",
    "DENSE_RANK(): This one generates a new row number for every distinct row, leaving no gaps between groups of duplicates within a partition."
   ]
  },
  {
   "cell_type": "markdown",
   "metadata": {},
   "source": [
    "## Given the following tables, explain the outputs?\n",
    "\n",
    "```mysql\n",
    "SELECT * FROM runners;\n",
    "```\n",
    "\n",
    "\n",
    "| id | name         |\n",
    "|----| -------------|\n",
    "|  1 | John Doe     |\n",
    "|  2 | Jane Doe     |\n",
    "|  3 | Alice Jones  |\n",
    "|  4 | Bobby Louis  |\n",
    "|  5 | Lisa Romero  |\n",
    "\n",
    "```mysql\n",
    "SELECT * FROM races;\n",
    "```\n",
    "\n",
    "| id | event          | winner_id |\n",
    "|----|----------------|-----------|\n",
    "|  1 | 100 meter dash |  2        |\n",
    "|  2 | 500 meter dash |  3        |\n",
    "|  3 | cross-country  |  2        |\n",
    "|  4 | triathalon     |  NULL     |\n",
    "\n",
    "\n",
    "```mysql\n",
    "SELECT * FROM runners WHERE id NOT IN (SELECT winner_id FROM races)\n",
    "```\n",
    "If the set being evaluated by the SQL NOT IN condition contains null, then the outer query here will return an empty set, even if there are many runner ids that match winner_ids in the races table.\n",
    "\n",
    "\n",
    "```mysql\n",
    "SELECT * FROM runners WHERE id NOT IN (SELECT winner_id FROM races WHERE winner_id IS NOT null)\n",
    "```"
   ]
  },
  {
   "cell_type": "markdown",
   "metadata": {},
   "source": [
    "# Top N items per group\n",
    "\n",
    "```mysql\n",
    "\n",
    "select * from (\n",
    "    select country, \n",
    "           city,\n",
    "           population, \n",
    "           row_number() over (partition by country order by population desc) as country_rank \n",
    "    from cities) ranks\n",
    "where country_rank <= 2;\n",
    "\n",
    "```"
   ]
  },
  {
   "cell_type": "markdown",
   "metadata": {},
   "source": [
    "__What is Full Outer Join With Exclusion?__\n",
    "\n",
    "It gives all NOT common records of both the tables, that means it is actually inverse of the inner join and many often call it Not Inner Join.\n",
    "\n",
    "```mysql\n",
    "\n",
    "select * from T1\n",
    "full outer join T2\n",
    "        on T1.col1 = T2.col1\n",
    " where T1.col1 is null or T2.col1 is null\n",
    " \n",
    " ```"
   ]
  },
  {
   "cell_type": "markdown",
   "metadata": {},
   "source": [
    "__Q Do SQL joins with out using Join?__\n",
    "\n",
    "Yes, it is possible to join two tables without using the join keyword. Here is how you can do it.\n",
    "\n",
    "```mysql\n",
    "SELECT *\n",
    "FROM [Sales].[Invoices],[Purchasing].[PurchaseOrders]\n",
    "```\n",
    "\n",
    "The result of the above query will be cross join between the two tables which are mentioned in the query. Not only that you can also put multiple tables (more than 2)  in the FROM clause with a comma between them and they will be all cross joined. Cross join is also known as cartesian join.\n",
    "\n",
    "If we specify the WHERE condition to the join which we just have seen, we can also convert the same cross join to inner join as well. Here is how you can join two tables which have a relation between them.\n",
    "\n",
    "```mysql\n",
    "SELECT *\n",
    "FROM TableA a, TableB b\n",
    "WHERE a.condition1 = b.condition2\n",
    "```\n",
    "\n",
    "Once again, please note that while the syntax above works great and still produces similar efficient results for Inner Join and Cross Join, it is not preferred ANSI standard syntax. It is suggested that for clarity of the code and to follow the standard, it is a good idea to use the explicit JOIN Keywords."
   ]
  },
  {
   "cell_type": "markdown",
   "metadata": {},
   "source": [
    "__Q What are constraints in SQL?__\n",
    "\n",
    "Constraints are database schema definition for enforcing data integrity. They define certain properties that data in a database must comply with.\n",
    "\n",
    "It can be applied for single or multiple fields in an SQL table during creation of table or after creationg using the ALTER TABLE command. The constraints are:\n",
    "\n",
    "- PRIMARY KEY - Uniquely identifies each record in a table.\n",
    "- FOREIGN KEY - Ensures referential integrity for a record in another table.\n",
    "- UNIQUE - Ensures unique values to be inserted into the field.\n",
    "- INDEX - Indexes a field providing faster retrieval of records.\n",
    "- NOT NULL - Restricts NULL value from being inserted into a column.\n",
    "- CHECK - Verifies that all values in a field satisfy a condition.\n",
    "- DEFAULT - Automatically assigns a default value if no value has been specified for the field.\n"
   ]
  },
  {
   "cell_type": "markdown",
   "metadata": {},
   "source": [
    "__Q Explain the meaning of ‘index’?__\n",
    "\n",
    "Indexes help retrieve information from the database faster and with higher efficiency. An index refers to a performance tuning method of allowing faster retrieval of records from the table. An index creates an entry for each value and hence it will be faster to retrieve data.\n",
    "\n",
    "- Clustered – reorders the table and searches for information with the use of key values\n",
    "- Non-clustered – maintains the order of the table\n",
    "- Unique – forbids fields to have duplicated values\n",
    "\n",
    "Moreover, a table can have multiple non-cluster indexes, but only 1 single clustered one."
   ]
  },
  {
   "cell_type": "markdown",
   "metadata": {},
   "source": [
    "__Q What is the Difference between Primary Key and Unique key?__\n",
    "\n",
    "1. Behavior: Primary Key is used to identify a row (record) in a table whereas Unique-key is to prevent duplicate values in a column.\n",
    "\n",
    "2. Indexing: By default Sql-engine creates Clustered Index on primary-key if not exists and Non-Clustered Index on Unique-key.\n",
    "\n",
    "3. Nullability: Primary key does not include Null values whereas Unique-key can.\n",
    "\n",
    "4. Existence: A table can have at most one primary key but can have multiple Unique-key.\n",
    "\n",
    "5. Modifiability: You can’t change or delete primary values but Unique-key values can.\n",
    "\n",
    "**a primary key can be referenced as foreign key into other tables."
   ]
  },
  {
   "cell_type": "markdown",
   "metadata": {},
   "source": [
    "__Q What are the differences between a clustered and a non-clustered index?__\n"
   ]
  },
  {
   "cell_type": "markdown",
   "metadata": {},
   "source": [
    "__Clustered Index__\n",
    "\n",
    "- A clustered index determine the physical order of DATA in a table.For this reason a table have only 1 clustered index.\n",
    "- Clustered indexes are stored physically on the table. This means they are the fastest and you can only have one clustered index per table.\n",
    "- A clustered index is essentially a sorted copy of the data in the indexed columns.\n",
    "- A table cannot have more than one clustered index, although it can have a single composite clustered index (ie the table is physically ordered by eg Surname, Firstname, DOB).\n",
    "- Clustered indexes work great for ranges (e.g. select * from my_table where my_key between @min and @max)\n",
    "- Writing to a table with a clustered index can be slower as there is a need to rearrange the data.\n",
    "- By default, the primary key on a SQL Server table is also used as the clustering key - but that doesn't need to be that way!\n",
    "\n",
    "\n",
    "__Non Clustered Index__\n",
    "\n",
    "- Unclustered means it's \"only\" a logical order.\n",
    "- Non-clustered indexes are stored separately, and you can have as many as you want.\n",
    "- Can be used many times per table\n",
    "- Quicker for insert and update operations than a clustered index\n",
    "- when table is non-clustered data files are unordered and it uses Heap data structure."
   ]
  },
  {
   "cell_type": "markdown",
   "metadata": {},
   "source": [
    "__Q Are NULL values equal to a zero ?__\n",
    "\n",
    "No, because a “zero” has a numerical manner and NULL represent the absence of a character. This happens when the character is unknown or unavailable. Additionally, NULL shouldn’t be confused with blank space because data record without any value assigned is not the same as a plain blank space, with no data records attached."
   ]
  },
  {
   "cell_type": "markdown",
   "metadata": {},
   "source": [
    "__Q What is the difference between primary, unique and foreign key constraints, and indexes?__"
   ]
  },
  {
   "cell_type": "markdown",
   "metadata": {},
   "source": [
    "Primary key allows each row in a table to be uniquely identified and ensures that no duplicate rows exist and no null values are entered. Primary key mainly prevent duplication and shows the uniqueness of columns Foreign key mainly shows relationship on two tables\n",
    "\n",
    "Unique key constraint is used to prevent the duplication of key values within the rows of a table and allow null values. (In oracle one null is not equal to another null).\n",
    "\n",
    "__Primary Key__\n",
    "- Usually Primary Key is used to index the data inside the table.\n",
    "- identify uniquely every row it can not be null. it can not be a duplicate.\n",
    "- Can't have a NULL value.\n",
    "- Each table can have only one primary key.\n",
    "- By default, Primary key is clustered index and data in the database table is physically organized in the sequence of clustered index.\n",
    "- PRIMARY acts exactly like a UNIQUE index, except that it is always named 'PRIMARY'\n",
    "- Primary key can be related with another table's as a Foreign Key.\n",
    "- We can generated ID automatically with the help of Auto Increment field. Primary key supports Auto Increment value.\n",
    "\n",
    "__Unique Key__\n",
    "- Unique Constraint may have a NULL value.\n",
    "- Each table can have more than one Unique Constraint.\n",
    "- By default, Unique key is a unique non-clustered index.\n",
    "- Unique Constraint can not be related with another table's as a Foreign Key.\n",
    "- Unique Constraint doesn't supports Auto Increment value.\n",
    "\n",
    "__Foreign Key__\n",
    "- create relationship between two tables. can be null. can be a duplicate\n",
    "- Foreign key is a field in the table that is primary key in another table.\n",
    "- Foreign key can accept multiple null value.\n",
    "- Foreign key do not automatically create an index, clustered or non-clustered. You can manually create an index on foreign key.\n",
    "- We can have more than one foreign key in a table.\n",
    "\n"
   ]
  },
  {
   "cell_type": "markdown",
   "metadata": {},
   "source": [
    "__Q What are the TRUNCATE, DELETE and DROP statements?__\n",
    "\n",
    "DELETE statement is used to delete rows from a table.\n",
    "\n",
    "_DELETE FROM Candidates WHERE CandidateId > 1000;_\n",
    "\n",
    "TRUNCATE command is used to delete all the rows from the table and free the space containing the table.\n",
    "\n",
    "_TRUNCATE TABLE Candidates;_\n",
    "\n",
    "DROP command is used to remove an object from the database. If you drop a table, all the rows in the table is deleted and the table structure is removed from the database.\n",
    "\n",
    "_DROP TABLE Candidates;_\n",
    "\n",
    "__Drop vs Truncate__\n",
    "\n",
    "DROP TABLE - deletes the table from the database. \n",
    "TRUNCATE TABLE - empties it, but leaves the structure for future data.\n",
    "\n",
    "If a table is dropped, all things associated with the tables are dropped as well. This includes - the relationships defined on the table with other tables, the integrity checks and constraints, access privileges and other grants that the table has. To create and use the table again in its original form, all these relations, checks, constraints, privileges and relationships need to be redefined. However, if a table is truncated, none of the above problems exist and the table retains its original structure.\n",
    "\n",
    "__Delete vs Truncate__\n",
    "\n",
    "The TRUNCATE command is used to delete all the rows from the table and free the space containing the table.\n",
    "The DELETE command deletes only the rows from the table based on the condition given in the where clause or deletes all the rows from the table if no condition is specified. But it does not free the space containing the table."
   ]
  },
  {
   "cell_type": "markdown",
   "metadata": {},
   "source": [
    "__Q What are some of the differences between using recursion to solve a problem versus using iteration? Which one is faster? Which one uses more memory?__\n",
    "\n",
    "The fact is that recursion is rarely the most efficient approach to solving a problem, and iteration is almost always more efficient. This is because there is usually more overhead associated with making recursive calls due to the fact that the call stack is so heavily used during recursion (for a refresher on this, read here: Recursion tutorial). This means that many computer programming languages will spend more time maintaining the call stack then they will actually performing the necessary calculations."
   ]
  },
  {
   "cell_type": "markdown",
   "metadata": {},
   "source": [
    "__Q Having vs Where?__\n",
    "\n",
    "Aggregates cannot be used in a WHERE clause; they are used only inside HAVING.\n",
    "\n",
    "HAVING allows a user to perform conditional tests on aggregate values. It is often used in combination with GROUP BY. With HAVING, you can include or exclude groups based on the aggregate value for that group.\n",
    "\n",
    "A WHERE clause is useful in both grouped and ungrouped queries, while a HAVING clause should appear only immediately after the GROUP BY clause in a grouped query.\n",
    "\n",
    "Similar to the WHERE clause, the HAVING clause requires that the column names that appear in the clause must also appear as column names in the GROUP BY clause.\n",
    "\n",
    "Similar to the WHERE clause, it is ok for column names not appearing in the GROUP BY clause to appear as arguments to aggregate functions.\n",
    "\n",
    "\n",
    "g.g. Find the average salary of for each department that has either more than 1 employee or starts with a “To”:\n",
    "\n",
    "```mysql\n",
    "SELECT Dept, AVG(Salary) as avg_sal\n",
    "FROM Employee\n",
    "GROUP BY Dept\n",
    "HAVING COUNT(Name) > 1 OR Dept LIKE “To”\n",
    "```"
   ]
  },
  {
   "cell_type": "markdown",
   "metadata": {},
   "source": [
    "__Q What are Aggregate and Scalar functions?__"
   ]
  },
  {
   "cell_type": "markdown",
   "metadata": {},
   "source": [
    "\n",
    "An aggregate function performs operations on a collection of values to return a single scalar value. Aggregate functions are often used with the GROUP BY and HAVING clauses of the SELECT statement. \n",
    "\n",
    "- AVG() - Calculates the mean of a collection of values.\n",
    "- COUNT() - Counts the total number of records in a specific table or view.\n",
    "- MIN() - Calculates the minimum of a collection of values.\n",
    "- MAX() - Calculates the maximum of a collection of values.\n",
    "- SUM() - Calculates the sum of a collection of values.\n",
    "\n",
    "\n",
    "__Note__: All aggregate functions ignore NULL values except COUNT function.\n",
    "\n",
    "__Scaler Function__\n",
    "\n",
    "A scalar function returns a single value based on the input value. Following are the widely used SQL scalar functions:\n",
    "\n",
    "- LEN() - Calculates the total length of the given field (column).\n",
    "- UCASE() - Converts a collection of string values to uppercase characters.\n",
    "- LCASE() - Converts a collection of string values to lowercase characters.\n",
    "- MID() - Extracts substrings from a collection of string values in a table.\n",
    "- CONCAT() - Concatenates two or more strings.\n",
    "- ROUND() - Calculates the round off integer value for a numeric field (or decimal point values).\n",
    "- NOW() - Returns the current data & time.\n"
   ]
  },
  {
   "cell_type": "markdown",
   "metadata": {},
   "source": [
    "__Q What is the difference between CHAR and VARCHAR2 datatype in SQL?__\n",
    "\n",
    "Both Char and Varchar2 are used for characters datatype but varchar2 is used for character strings of variable length whereas Char is used for strings of fixed length. For example, char(10) can only store 10 characters and will not be able to store a string of any other length whereas varchar2(10) can store any length i.e 6,8,2 in this variable."
   ]
  },
  {
   "cell_type": "markdown",
   "metadata": {},
   "source": [
    "__Q What is CLAUSE in SQL?__\n",
    "\n",
    "SQL clause helps to limit the result set by providing a condition to the query. A clause helps to filter the rows from the entire set of records.\n",
    "\n",
    "For example – WHERE, HAVING clause.\n",
    "\n",
    "HAVING clause can be used only with SELECT statement. It is usually used in a GROUP BY clause and whenever GROUP BY is not used, HAVING behaves like a WHERE clause.\n",
    "\n",
    "Having Clause is only used with the GROUP BY function in a query whereas WHERE Clause is applied to each row before they are a part of the GROUP BY function in a query."
   ]
  },
  {
   "cell_type": "markdown",
   "metadata": {},
   "source": [
    "__Q What is CTE?__\n",
    "\n",
    "A CTE or common table expression is an expression which contains temporary result set which is defined in a SQL statement."
   ]
  },
  {
   "cell_type": "markdown",
   "metadata": {},
   "source": [
    "__Q Can Primary key is a Foreign Key on the same table?__\n",
    "\n",
    "Yes  "
   ]
  },
  {
   "cell_type": "markdown",
   "metadata": {},
   "source": [
    "__Q What is the use of the DROP option in the ALTER TABLE command?__\n",
    "\n",
    "It is used to drop constraints specified on the table.  "
   ]
  },
  {
   "cell_type": "markdown",
   "metadata": {},
   "source": [
    "__Q What is a Cartesian product?__\n",
    "\n",
    "A Cartesian product is the result of an unrestricted join of two or more tables. The result set of a three table Cartesian product will have x * y * z number of rows where x, y, z correspond to the number of rows in each table involved in the join.  \n"
   ]
  },
  {
   "cell_type": "markdown",
   "metadata": {},
   "source": [
    "__Q What is the difference between Delete and Truncate command in SQL?__\n",
    "\n",
    "Delete command and truncate command both will delete the data, however the truncate command can not be rolled back as delete can be. TRUNCATE is a DDL command whereas DELETE is a DML command. The delete command can be used for selected records using the where clause but with the truncate command we have to loose data. DELETE statement is a logged operation and hence takes more time then truncate.  "
   ]
  },
  {
   "cell_type": "markdown",
   "metadata": {},
   "source": [
    "__Q Which function is used to find the largest integer less than or equal to a specific value?__\n",
    "\n",
    "FLOOR  "
   ]
  },
  {
   "cell_type": "markdown",
   "metadata": {},
   "source": [
    "__Q What is sql identity?__\n",
    "\n",
    "SQL IDENTITY (Property) creates an identity column in a table.\n",
    "\n",
    "Syntax:\n",
    "\n",
    "IDENTITY [ ( seed , increment ) ]\n",
    "\n",
    "Example 1 of IDENTITY (Property)\n",
    "\n",
    "```mysql\n",
    "CREATE TABLE EMP\n",
    "(\n",
    "id_number int IDENTITY(1,1),\n",
    "nick_name varchar (20)\n",
    ")\n",
    "```"
   ]
  },
  {
   "cell_type": "markdown",
   "metadata": {},
   "source": [
    "__Q Difference between Union & Union All__?\n",
    "\n",
    "The union and union all operators allow you to combine multiple data sets. The difference between the two is that union sorts the combined set and removes duplicates while union all does not.\n",
    "\n",
    "Union all is faster than union, union's duplicate elimination requires a sorting operation, which takes time."
   ]
  },
  {
   "cell_type": "markdown",
   "metadata": {},
   "source": [
    "__Q What is the difference between the outputs of the following two queries?__\n",
    "\n",
    "Statement 1:\n",
    "```mysql\n",
    "SELECT COUNT (*), SUM (comm)\n",
    "FROM hr.employees;\n",
    "```\n",
    "Statement 2:\n",
    "```mysql\n",
    "SELECT COUNT (comm), SUM (comm)\n",
    "FROM hr.employees;\n",
    "```\n",
    "The COUNT (*) will count all rows in the table.\n",
    "\n",
    "The COUNT (comm) will count only the number commission values that appear in the table. If there are any rows with a NULL commission, statement 2 will not count them.\n",
    "\n",
    "Restriction on SELECT Lists with Aggregation\n",
    "\n",
    "If any aggregation is used, then each element of a SELECT clause must either be aggregated or appear in a group-by clause. i.e. as a rule, when using GROUP BY and aggregate functions, any items in the SELECT list not used as an argument to an aggregate function must be included in the GROUP BY clause.\n",
    "\n",
    "Group by cannot use column aliasing. A GROUP BY clause must contain the column or expressions on which to perform the grouping operation. For example:\n",
    "\n",
    "Incorrect way:\n",
    "```mysql\n",
    "Select deptno as department, count (*) as cnt\n",
    "From emp\n",
    "Group by department\n",
    "```\n",
    "Correct way is:\n",
    "```mysql\n",
    "Select deptno as department, count (*) as cnt\n",
    "From emp\n",
    "Group by deptno\n",
    "```"
   ]
  },
  {
   "cell_type": "markdown",
   "metadata": {},
   "source": [
    "__Q find rows 4 and 5 using left join or right join?__\n",
    "\n",
    "table T1\n",
    "\n",
    "| a   |\n",
    "| ----|\n",
    "| 1   |\n",
    "| 2   |\n",
    "| 3   |\n",
    "\n",
    "table T2\n",
    "\n",
    "| b   |\n",
    "| ----|\n",
    "| 1   |\n",
    "| 2   |\n",
    "| 3   |\n",
    "| 4   |\n",
    "| 5   |\n",
    "\n",
    "```mysql\n",
    "select * from table T2\n",
    "left join T1\n",
    "on T1.a = T2.b\n",
    "where T1.a is null\n",
    "```"
   ]
  },
  {
   "cell_type": "markdown",
   "metadata": {},
   "source": [
    "__Q How to find count of duplicate rows?__\n",
    "\n",
    "```mysql\n",
    "Select emp, count(emp) \n",
    "from employee\n",
    "Group by emp\n",
    "Having count(emp)>1\n",
    "Order by count (emp) desc;\n",
    "```"
   ]
  },
  {
   "cell_type": "markdown",
   "metadata": {},
   "source": [
    "__Q How to find duplicate records with the number they are duplicated?__\n",
    "\n",
    "```mysql\n",
    "SELECT Id, count (*) as num_records\n",
    "from table  \n",
    "group by id  \n",
    "having count (*) > 1\n",
    "```"
   ]
  },
  {
   "cell_type": "markdown",
   "metadata": {},
   "source": [
    "__Q How to fetch common records from two different tables which has not any joining condition?__\n",
    "```mysql\n",
    "Select * from Table1\n",
    "Intersect\n",
    "Select * from Table2\n",
    "```"
   ]
  },
  {
   "cell_type": "markdown",
   "metadata": {},
   "source": [
    "__Q How to Show the Max marks and min marks together from student table?__\n",
    "\n",
    "```mysql\n",
    "Select max (marks) from Student\n",
    "Union\n",
    "Select min (marks) from Student\n",
    "```"
   ]
  },
  {
   "cell_type": "markdown",
   "metadata": {},
   "source": [
    "__Q how would you retrieve the unique values for the employee_location without using the DISTINCT keyword?__\n",
    "\n",
    "```mysql\n",
    "SELECT employee_location \n",
    "from employee \n",
    "GROUP BY employee_location\n",
    "```"
   ]
  },
  {
   "cell_type": "markdown",
   "metadata": {},
   "source": [
    "__Q Write a SQL query to get the third highest salary of an employee from employee_table?__\n",
    "\n",
    "```mysql\n",
    "SELECT TOP 1 salary\n",
    "FROM\n",
    "(\n",
    "SELECT TOP 3 salary\n",
    "FROM employee_table\n",
    "ORDER BY salary DESC\n",
    ") emp\n",
    "ORDER BY salary ASC\n",
    "```"
   ]
  },
  {
   "cell_type": "markdown",
   "metadata": {},
   "source": [
    "__Q How can you fetch alternate records from a table?__\n",
    "\n",
    "You can fetch alternate records i.e both odd and even row numbers. For example- To display even numbers, use the following command:\n",
    "\n",
    "```mysql\n",
    "Select studentId \n",
    "from student)\n",
    "where mod(rowno,2)=0\n",
    "```\n",
    "\n",
    "Now, to display odd numbers:\n",
    "\n",
    "```mysql\n",
    "Select studentId \n",
    "from from student\n",
    "where mod(rowno,2)=1\n",
    "```"
   ]
  },
  {
   "cell_type": "markdown",
   "metadata": {},
   "source": [
    "__Q How to create a table without copying data?__\n",
    "\n",
    "```mysql\n",
    "create table T1 \n",
    "as  ( select * from T2 where 1=1 ) -- 1=1 means ignoring where clause\n",
    "```\n",
    "\n"
   ]
  },
  {
   "cell_type": "markdown",
   "metadata": {},
   "source": [
    "__Q Write a query to find the third-highest salary from the EmpPosition table.__\n",
    "\n",
    "```mysql\n",
    "SELECT TOP 1 salary\n",
    "FROM\n",
    "(\n",
    "SELECT TOP 3 salary\n",
    "FROM employee_table\n",
    "ORDER BY salary DESC\n",
    ") AS emp\n",
    "ORDER BY salary ASC;\n",
    "```"
   ]
  },
  {
   "cell_type": "markdown",
   "metadata": {},
   "source": [
    "__Q Write SQL query to find max salay in each dept?__\n",
    "\n",
    " ```mysql\n",
    "    SELECT DeptID, MAX(Salary) \n",
    "    FROM Employee \n",
    "    GROUP BY DeptID;\n",
    "```\n"
   ]
  },
  {
   "cell_type": "markdown",
   "metadata": {},
   "source": [
    "__Q Write an SQL query to clone a new table from another table.__\n",
    "\n",
    "```mysql\n",
    "SELECT * INTO WorkerClone FROM Worker WHERE 1 = 0;\n",
    "```"
   ]
  },
  {
   "cell_type": "markdown",
   "metadata": {},
   "source": [
    "__Q Write an SQL query to show the last record from a table.__\n",
    "\n",
    "```mysql\n",
    "Select * from Worker where WORKER_ID = (SELECT max(WORKER_ID) from Worker);\n",
    "```"
   ]
  },
  {
   "cell_type": "markdown",
   "metadata": {},
   "source": [
    "__Q Create an SQL query that shows the TOP 3 authors who sold the most books?__\n",
    "\n",
    "Let’s say you have two SQL tables: authors and books.The authors dataset has 1M+ rows\n",
    "\n",
    "\n",
    "| author_name   | book_name   |\n",
    "| ------------- |-------------|\n",
    "| author_1      |book_1       |\n",
    "| author_2      |book_2       |\n",
    "| author_3      |book_13      |\n",
    "\n",
    "and The books dataset also has 1M+ rows and here’s the first six:\n",
    "\n",
    "\n",
    "| book_name   | sold_copies |\n",
    "| ------------|-------------|\n",
    "| book_1      |1000         |\n",
    "| book_2      |1500         |\n",
    "| book_3      |3400         |\n"
   ]
  },
  {
   "cell_type": "markdown",
   "metadata": {},
   "source": [
    "```mysql\n",
    "SELECT a.author_name, \n",
    "       SUM(b.sold_copies) AS sold_sum\n",
    "FROM author a\n",
    "JOIN book b\n",
    "ON b.book_name = a.book_name\n",
    "GROUP BY a.author_name\n",
    "ORDER BY sold_sum DESC\n",
    "LIMIT 3;\n",
    "\n",
    "```"
   ]
  },
  {
   "cell_type": "markdown",
   "metadata": {},
   "source": [
    "__Q A table named fruit has the attributes \"ID\", \"Fruit name\" and \"Basket No\":?__\n",
    "\n",
    "- Find the basket number which have more than 2 fruits.\n",
    "- Find the basket number which contain orange.\n",
    "- Find the fruits which are present in more than one basket.\n",
    "\n",
    "|ID | Fruit Name | Basket No|\n",
    "|---|------------|----------|\n",
    "|1  |Apple       |1         |\n",
    "|2  |Banana      |2         | \n",
    "|3  |Orange      |1         |\n",
    "|1  |Apple       |2         |\n",
    "|2  |Banana      |3         |\n",
    "|3  |Orange      |2         |\n",
    "|4  |Mango       |2         |\n",
    "|5  |Grapes      |1         |\n",
    "|1  |Apple       |3         |\n",
    "\n",
    "\n",
    "find the basket number which have more than 2 fruits.\n",
    "\n",
    "```mysql\n",
    "SELECT   basket_no\n",
    "FROM     baskets\n",
    "GROUP BY basket_no\n",
    "HAVING   COUNT(*) > 2\n",
    "```\n",
    "\n",
    "find the basket number which contain orange.\n",
    "\n",
    "```mysql\n",
    "SELECT DISTINCT basket_no\n",
    "FROM   baskets\n",
    "WHERE  fruit_name = 'Orange'\n",
    "```\n",
    "\n",
    "Find the fruits which are present in more than one basket.\n",
    "\n",
    "```mysql\n",
    "SELECT   fruit_name\n",
    "FROM     baskets\n",
    "GROUP BY fruit_name\n",
    "HAVING   COUNT(*) > 1\n",
    "```"
   ]
  },
  {
   "cell_type": "markdown",
   "metadata": {},
   "source": [
    "__Q Consider the below DEPT and EMPLOYEE table and answer the below queries?__\n",
    "\n",
    "```mysql\n",
    "DEPT\n",
    "DEPTNO (NOT NULL , NUMBER(2)),\n",
    "DNAME (VARCHAR2(14)),\n",
    "LOC (VARCHAR2(13)\n",
    "\n",
    "EMPLOYEE\n",
    "EMPNO (NOT NULL , NUMBER(4)),\n",
    "ENAME (VARCHAR2(10)),\n",
    "JOB (VARCHAR2(9)),\n",
    "MGR (NUMBER(4)),\n",
    "HIREDATE (DATE),\n",
    "SAL (NUMBER(7,2)),\n",
    "COMM (NUMBER(7,2)),\n",
    "DEPTNO (NUMBER(2))\n",
    "```\n",
    "MGR is the EMPno of the Employee whom the Employee reports to.\n",
    "DEPTNO is a foreign key.\n",
    "\n",
    "1. List all the Employees who have at least one person reporting to them.\n",
    "\n",
    "```mysql \n",
    "SELECT ENAME FROM EMPLOYEE WHERE EMPNO IN (SELECT MGR FROM EMPLOYEE); \n",
    "```\n",
    "\n",
    "2. List the highest salary paid for each job.\n",
    "\n",
    "```mysql \n",
    "SELECT JOB, MAX(SAL) FROM EMPLOYEE GROUP BY JOB \n",
    "```\n"
   ]
  },
  {
   "cell_type": "markdown",
   "metadata": {},
   "source": [
    "__Q In which year did most people join the company? Display the year and the number of Employees?__\n",
    "\n",
    "```mysql\n",
    "SELECT TO_CHAR(HIREDATE,'YYYY') \"YEAR\", COUNT(EMPNO) \"NO. OF EMPLOYEES\"\n",
    "FROM EMPLOYEE\n",
    "GROUP BY TO_CHAR(HIREDATE,'YYYY')\n",
    "HAVING COUNT(EMPNO) = (SELECT MAX(COUNT(EMPNO))\n",
    "FROM EMPLOYEE\n",
    "GROUP BY TO_CHAR(HIREDATE,'YYYY'));\n",
    "```\n"
   ]
  },
  {
   "cell_type": "markdown",
   "metadata": {},
   "source": [
    "__Q Write a correlated sub-query to list out the Employees who earn more than the average salary of their department?__\n",
    " \n",
    "```mysql\n",
    "SELECT ENAME,SAL\n",
    "FROM EMPLOYEE E\n",
    "WHERE SAL > (SELECT AVG(SAL)\n",
    "FROM EMPLOYEE F\n",
    "WHERE E.DEPTNO = F.DEPTNO);\n",
    "```"
   ]
  },
  {
   "cell_type": "markdown",
   "metadata": {},
   "source": [
    "__Q Find the nth maximum salary?__\n",
    " \n",
    "```mysql\n",
    "SELECT ENAME, SAL\n",
    "FROM EMPLOYEE A\n",
    "WHERE &N = (SELECT COUNT (DISTINCT(SAL))\n",
    "FROM EMPLOYEE B\n",
    "WHERE A.SAL<=B.SAL);  \n",
    "```"
   ]
  },
  {
   "cell_type": "markdown",
   "metadata": {},
   "source": [
    "__Q Select the duplicate records (Records, which are inserted, that already exist) in the EMPLOYEE table?__\n",
    " \n",
    " ```mysql\n",
    "SELECT * FROM EMPLOYEE A \n",
    "WHERE A.EMPNO IN (SELECT EMPNO                                          \n",
    "FROM EMPLOYEE                                          \n",
    "GROUP BY EMPNO                                           \n",
    "HAVING COUNT(EMPNO)>1)\n",
    "AND A.ROWID!=MIN (ROWID));\n",
    "```"
   ]
  },
  {
   "cell_type": "markdown",
   "metadata": {},
   "source": [
    "__Q Write a query to list the length of service of the Employees (of the form n years and m months)?__\n",
    " \n",
    "```mysql\n",
    "SELECT ENAME \"EMPLOYEE\",TO_CHAR(TRUNC(MONTHS_BETWEEN(SYSDATE,HIREDATE)/12))\n",
    "||' YEARS '|| TO_CHAR(TRUNC(MOD(MONTHS_BETWEEN \n",
    "(SYSDATE, HIREDATE),12)))||' MONTHS ' \"LENGTH OF SERVICE\"\n",
    "FROM EMPLOYEE;\n",
    "```"
   ]
  }
 ],
 "metadata": {
  "kernelspec": {
   "display_name": "Python 3",
   "language": "python",
   "name": "python3"
  },
  "language_info": {
   "codemirror_mode": {
    "name": "ipython",
    "version": 3
   },
   "file_extension": ".py",
   "mimetype": "text/x-python",
   "name": "python",
   "nbconvert_exporter": "python",
   "pygments_lexer": "ipython3",
   "version": "3.6.4"
  }
 },
 "nbformat": 4,
 "nbformat_minor": 2
}
