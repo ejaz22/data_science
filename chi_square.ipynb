{
 "cells": [
  {
   "cell_type": "markdown",
   "metadata": {},
   "source": [
    "## What is Pearson’s chi-square test of association/independence? How it is useful in feature selection?\n",
    "\n",
    "Chi-square test is used for categorical features in a dataset. In practice, we calculate Chi-square between each feature and the target and select the desired number of features with best Chi-square scores.\n",
    "\n",
    "- Chi square test is akin to correlateion \n",
    "- used for testing relationships between categorical variables i.e. categorical response and categorical predictor\n",
    "- The null hypothesis of the Chi-Square test is that no relationship exists on the categorical variables in the population i.e they are independent. \n",
    "- Independent when p > 0.05 and Dependent when p < 0.05, a higher the Chi-Square value the feature is more dependent\n",
    "- Chi-Square is sensitive to small frequencies in cells of tables. Generally, when the expected value in a cell of a table is less than 5, chi-square can lead to errors in conclusions.\n",
    "- the other chi square test is goodness of fit\n",
    "\n",
    "- ANOVA - continuous response and categorical predictor, ANOVA can also be used for feature selection"
   ]
  },
  {
   "cell_type": "markdown",
   "metadata": {},
   "source": [
    "## Chi-square Test can also be used for feature selection"
   ]
  },
  {
   "cell_type": "code",
   "execution_count": 2,
   "metadata": {},
   "outputs": [],
   "source": [
    "from sklearn.datasets import load_iris \n",
    "from sklearn.feature_selection import SelectKBest ,chi2\n",
    "import pandas as pd\n",
    "import warnings\n",
    "warnings.filterwarnings('ignore')"
   ]
  },
  {
   "cell_type": "code",
   "execution_count": 9,
   "metadata": {},
   "outputs": [],
   "source": [
    "iris = load_iris() \n",
    "X = pd.DataFrame(iris.data, columns=iris.feature_names)\n",
    "y = pd.DataFrame(iris.target)"
   ]
  },
  {
   "cell_type": "markdown",
   "metadata": {},
   "source": [
    "### SelectKBest\n",
    "\n",
    "Default Score function:\n",
    "- For regression: f_regression, mutual_info_regression\n",
    "- For classification: chi2, f_classif, mutual_info_classif\n",
    "\n",
    "if you pass chi2 as a score function, SelectKBest will compute the chi2 statistic between each feature of X and y (assumed to be class labels). A small value will mean the feature is independent of y. A large value will mean the feature is non-randomly related to y, and so likely to provide important information. Only k features will be retained."
   ]
  },
  {
   "cell_type": "code",
   "execution_count": 10,
   "metadata": {},
   "outputs": [
    {
     "data": {
      "text/plain": [
       "SelectKBest(k=2, score_func=<function chi2 at 0x7fde1858b050>)"
      ]
     },
     "execution_count": 10,
     "metadata": {},
     "output_type": "execute_result"
    }
   ],
   "source": [
    "# Two features with highest chi-squared statistics are selected \n",
    "# score function is a callable, can also be user defined\n",
    "selector = SelectKBest(score_func=chi2,k=2)\n",
    "selector.fit(X, y)"
   ]
  },
  {
   "cell_type": "code",
   "execution_count": 34,
   "metadata": {},
   "outputs": [
    {
     "name": "stdout",
     "output_type": "stream",
     "text": [
      "(150, 4) (150, 2)\n"
     ]
    }
   ],
   "source": [
    "# Reduced features \n",
    "X_new = selector.transform(X)\n",
    "print(X.shape,X_new.shape)"
   ]
  },
  {
   "cell_type": "code",
   "execution_count": 37,
   "metadata": {},
   "outputs": [
    {
     "data": {
      "text/plain": [
       "['petal length (cm)', 'petal width (cm)']"
      ]
     },
     "execution_count": 37,
     "metadata": {},
     "output_type": "execute_result"
    }
   ],
   "source": [
    "# get list of columns\n",
    "list(X.columns[selector.get_support(indices=True)])"
   ]
  },
  {
   "cell_type": "code",
   "execution_count": 38,
   "metadata": {},
   "outputs": [
    {
     "name": "stdout",
     "output_type": "stream",
     "text": [
      "Chi Square Values: [ 10.81782088   3.7107283  116.31261309  67.0483602 ]\n",
      "p-values: [4.47651499e-03 1.56395980e-01 5.53397228e-26 2.75824965e-15]\n"
     ]
    }
   ],
   "source": [
    "# first array rep. chi sq value, 2nd array rep. p-value\n",
    "chi_scores = chi2(X,y) \n",
    "\n",
    "print('Chi Square Values:', chi_scores[0]) \n",
    "print('p-values:', chi_scores[1]) "
   ]
  },
  {
   "cell_type": "markdown",
   "metadata": {},
   "source": [
    "## Feature slection with RFE"
   ]
  },
  {
   "cell_type": "code",
   "execution_count": 48,
   "metadata": {},
   "outputs": [
    {
     "name": "stdout",
     "output_type": "stream",
     "text": [
      "Num Features: 4\n",
      "Selected Features: [ True  True  True  True]\n",
      "Feature Ranking: [1 1 1 1]\n"
     ]
    }
   ],
   "source": [
    "from sklearn.feature_selection import RFE\n",
    "from sklearn.linear_model import LogisticRegression\n",
    "\n",
    "# feature extraction\n",
    "model = LogisticRegression()\n",
    "rfe = RFE(model, 15)\n",
    "fit = rfe.fit(X, y)\n",
    "\n",
    "\n",
    "print(\"Num Features: %d\" % fit.n_features_)\n",
    "print(\"Selected Features: %s\" % fit.support_)\n",
    "print(\"Feature Ranking: %s\" % fit.ranking_)"
   ]
  },
  {
   "cell_type": "code",
   "execution_count": 7,
   "metadata": {},
   "outputs": [],
   "source": [
    "import numpy as np\n",
    "from statsmodels.stats.outliers_influence import variance_inflation_factor as vif\n",
    "\n",
    "# get varinace inflation factor\n",
    "def get_vif(X):\n",
    "    \n",
    "    \"\"\"\n",
    "    Takes a pd.DataFrame or 2D np.array\n",
    "    and prints Variance Inflation Factor \n",
    "    for every variable.\n",
    "    \"\"\"\n",
    "    \n",
    "    if isinstance(X, pd.DataFrame) == False:\n",
    "        X = pd.DataFrame(X)\n",
    "    \n",
    "    X['__INTERCEPT'] = np.ones(X.shape[0])\n",
    "    \n",
    "    for i in range(X.shape[1]-1):\n",
    "        the_vif = vif(X.values, i)\n",
    "        print(\"VIF for column {:03}: {:.02f}\".format(i, the_vif))"
   ]
  },
  {
   "cell_type": "code",
   "execution_count": 8,
   "metadata": {},
   "outputs": [
    {
     "name": "stdout",
     "output_type": "stream",
     "text": [
      "VIF for column 000: 7.07\n",
      "VIF for column 001: 2.10\n",
      "VIF for column 002: 31.26\n",
      "VIF for column 003: 16.09\n"
     ]
    }
   ],
   "source": [
    "get_vif(X)"
   ]
  }
 ],
 "metadata": {
  "kernelspec": {
   "display_name": "Python 3",
   "language": "python",
   "name": "python3"
  },
  "language_info": {
   "codemirror_mode": {
    "name": "ipython",
    "version": 3
   },
   "file_extension": ".py",
   "mimetype": "text/x-python",
   "name": "python",
   "nbconvert_exporter": "python",
   "pygments_lexer": "ipython3",
   "version": "3.7.6"
  }
 },
 "nbformat": 4,
 "nbformat_minor": 4
}
